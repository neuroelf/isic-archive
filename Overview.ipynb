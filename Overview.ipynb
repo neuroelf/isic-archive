{
 "cells": [
  {
   "cell_type": "markdown",
   "metadata": {},
   "source": [
    "# IsicApi overview (from isicarchive package)\n",
    "\n",
    "## Installation\n",
    "To use the IsicApi class, please first install the isicarchive\n",
    "package from github, which is more frequently updated for now:\n",
    "~~~~\n",
    "pip install --upgrade git+https://github.com/neuroelf/isicarchive\n",
    "~~~~\n",
    "\n",
    "Or for a more stable release, you can install from PyPi using:\n",
    "~~~~\n",
    "pip install --upgrade isicarchive\n",
    "~~~~"
   ]
  },
  {
   "cell_type": "code",
   "execution_count": null,
   "metadata": {
    "scrolled": true
   },
   "outputs": [],
   "source": [
    "# Make sure the latest isicarchive package is installed!\n",
    "import sys\n",
    "#!{sys.executable} -m pip install --upgrade git+https://github.com/neuroelf/isicarchive\n",
    "!{sys.executable} -m pip install --upgrade C:\\\\Users\\\\weberj3\\\\Documents\\\\git\\\\isicarchive"
   ]
  },
  {
   "cell_type": "markdown",
   "metadata": {},
   "source": [
    "## Import and use the ```IsicApi``` object from the isicarchive module\n",
    "\n",
    "### ***Please change the username and cache_folder!***\n",
    "And please note that depending on which user is logged into the\n",
    "database, the responses from the (web-based) API differ: for\n",
    "instance, the number of datasets, images, and studies you have\n",
    "access to depends on the settings on these datasets, images, and\n",
    "studies.\n",
    "\n",
    "If you wish to work with the IsicApi object both with and without\n",
    "user permissions, please use two **separate** cache folders, for\n",
    "otherwise the image caching routine will be thrown off by the\n",
    "different number of images you have access to!\n",
    "\n",
    "The image cache file will be written into\n",
    "```<CACHE_FOLDER>/0/imcache_000000000000000000000000.json.gz```\n",
    "and for the full database (being authenticated with admin privileges)\n",
    "takes about 3.5MByte at this time (~ 100MB uncompressed).\n",
    "\n",
    "You may want to periodically re-create this cache file if you use\n",
    "the database without user authentication, since the order in which\n",
    "the image are received is based on their objectId in the database,\n",
    "meaning that if images that were uploaded but only recently made\n",
    "public, the cache will be \"out of sync\" and needs to be recreated."
   ]
  },
  {
   "cell_type": "code",
   "execution_count": null,
   "metadata": {},
   "outputs": [],
   "source": [
    "# Import isicapi\n",
    "from isicarchive import IsicApi, func\n",
    "\n",
    "# Set username and password (to None!)\n",
    "username = None\n",
    "password = None\n",
    "cache_folder = 'C:\\\\Users\\\\weberj3\\\\Documents\\\\ISIC'\n",
    "#cache_folder = '/Data/MSKCC/ISIC'\n",
    "\n",
    "# Instantiate API, will ask for password using getpass.getpass(...)\n",
    "api = IsicApi(username, password, cache_folder=cache_folder)"
   ]
  },
  {
   "cell_type": "code",
   "execution_count": null,
   "metadata": {},
   "outputs": [],
   "source": [
    "# load cached images\n",
    "api.cache_images()"
   ]
  },
  {
   "cell_type": "code",
   "execution_count": null,
   "metadata": {},
   "outputs": [],
   "source": [
    "# pretty-print api object\n",
    "api"
   ]
  },
  {
   "cell_type": "markdown",
   "metadata": {},
   "source": [
    "## Example usage to retrieve information from the archive\n",
    "Studies (as well as datasets and images) can be retrieved either\n",
    "using their objectId (```_id``` field in the web-based API), or\n",
    "using their name. Please note, some elements in the archive may\n",
    "not be publicly available. If you are not logged into the API\n",
    "with the necessary privileges, you will only be able to access\n",
    "the portion of database you have access to."
   ]
  },
  {
   "cell_type": "code",
   "execution_count": null,
   "metadata": {},
   "outputs": [],
   "source": [
    "# print available studies\n",
    "api.list_studies()"
   ]
  },
  {
   "cell_type": "code",
   "execution_count": null,
   "metadata": {},
   "outputs": [],
   "source": [
    "# Retrieve a study\n",
    "study = api.study('ISIC Annotation Study - All Features')\n",
    "\n",
    "# load annotations (will only work if logged in!)\n",
    "study.load_annotations()\n",
    "\n",
    "# print some information about the study\n",
    "study"
   ]
  },
  {
   "cell_type": "code",
   "execution_count": null,
   "metadata": {},
   "outputs": [],
   "source": [
    "# Retrieve an image for this study\n",
    "image = api.image(study.images[0])\n",
    "\n",
    "# Load the image data (from cache or online)\n",
    "image.load_imagedata()\n",
    "\n",
    "# And load the superpixels, and parse into coordinates map\n",
    "image.load_superpixels()\n",
    "image.map_superpixels()\n",
    "\n",
    "# print information\n",
    "image"
   ]
  },
  {
   "cell_type": "code",
   "execution_count": null,
   "metadata": {},
   "outputs": [],
   "source": [
    "# show in notebook\n",
    "image.show_in_notebook(max_size=400)"
   ]
  },
  {
   "cell_type": "code",
   "execution_count": null,
   "metadata": {},
   "outputs": [],
   "source": [
    "# Retrieve an annotation\n",
    "annotation = api.annotation(study.annotations[0])\n",
    "\n",
    "# print information about the annotation\n",
    "annotation"
   ]
  },
  {
   "cell_type": "code",
   "execution_count": null,
   "metadata": {},
   "outputs": [],
   "source": [
    "# Show the first feature in cyan, 70% opacity\n",
    "annotation.show_in_notebook(features={'Globules / Clods : Lacunae : Red': [[0,255,255], 0.7]})"
   ]
  },
  {
   "cell_type": "code",
   "execution_count": null,
   "metadata": {},
   "outputs": [],
   "source": [
    "# and get some information on the dataset of the image\n",
    "dataset = api.dataset(image.dataset)\n",
    "dataset.load_images()\n",
    "dataset"
   ]
  },
  {
   "cell_type": "code",
   "execution_count": null,
   "metadata": {},
   "outputs": [],
   "source": [
    "# show several annotations for several images\n",
    "study.show_annotations(images=['ISIC_0001115', 'ISIC_0001129', 'ISIC_0001130', 'ISIC_0001149'])"
   ]
  }
 ],
 "metadata": {
  "kernelspec": {
   "display_name": "Python 3",
   "language": "python",
   "name": "python3"
  },
  "language_info": {
   "codemirror_mode": {
    "name": "ipython",
    "version": 3
   },
   "file_extension": ".py",
   "mimetype": "text/x-python",
   "name": "python",
   "nbconvert_exporter": "python",
   "pygments_lexer": "ipython3",
   "version": "3.7.4"
  }
 },
 "nbformat": 4,
 "nbformat_minor": 2
}
