{
 "cells": [
  {
   "cell_type": "code",
   "execution_count": null,
   "metadata": {},
   "outputs": [],
   "source": [
    "import numpy\n",
    "from isicarchive import jitfunc\n",
    "from isicarchive.api import IsicApi\n",
    "from isicarchive.font import Font\n",
    "from isicarchive.sampler import Sampler, _sample_grid_2d\n",
    "from matplotlib import pyplot\n",
    "%matplotlib inline\n",
    "\n",
    "f = Font(None)\n",
    "s = Sampler()\n",
    "k = s._kernels['lanczos3']\n",
    "\n",
    "api = IsicApi()\n",
    "image = api.image('ISIC_0000000')\n",
    "image.load_image_data()\n",
    "rimage = api.resample_image(image.data, (800,1200))\n",
    "api.set_text_in_image(rimage, 'Test', fsize=0.04, min_alpha=1.0, color=[0,0,0], bcolor=[255,255,255])\n",
    "\n",
    "pyplot.figure(figsize=(12,8))\n",
    "pyplot.imshow(rimage)\n",
    "pyplot.show()"
   ]
  },
  {
   "cell_type": "code",
   "execution_count": null,
   "metadata": {},
   "outputs": [],
   "source": [
    "import timeit\n",
    "%timeit rimage = api.resample_image(image.data, (400,600))"
   ]
  },
  {
   "cell_type": "code",
   "execution_count": null,
   "metadata": {},
   "outputs": [],
   "source": [
    "skf = 3.0\n",
    "sk = jitfunc.conv_kernel(skf * float(k[1])).astype(numpy.float64)\n",
    "skl = sk.size\n",
    "skr = (skl - 1) // (2 * k[1])\n",
    "skr = 2 * k[1] * skr + 1\n",
    "skd = (skl - skr) // 2\n",
    "sk = sk[skd:skr+skd]\n",
    "sk = sk / numpy.sum(sk)\n",
    "ksk = numpy.convolve(k[0], sk)\n",
    "while numpy.sum(ksk[0:k[1]]) < 0.01:\n",
    "    ksk = ksk[k[1]:-k[1]]\n",
    "print(k[0].size)\n",
    "print(sk.size)\n",
    "print(ksk.size)\n",
    "pyplot.figure(figsize=(16,5))\n",
    "pyplot.subplot(1, 3, 1)\n",
    "pyplot.plot(k[0])\n",
    "pyplot.subplot(1, 3, 2)\n",
    "pyplot.plot(sk)\n",
    "pyplot.subplot(1, 3, 3)\n",
    "pyplot.plot(ksk)\n",
    "pyplot.show()"
   ]
  },
  {
   "cell_type": "code",
   "execution_count": null,
   "metadata": {},
   "outputs": [],
   "source": [
    "tdata = numpy.zeros(40000, dtype=numpy.uint8).reshape((200,200,))\n",
    "tdata[:, 4:8] = 255\n",
    "tdata[:, 20:22] = 255\n",
    "tdata[:, 32:64:8] = 128\n",
    "tdata[:, 33:65:8] = 255\n",
    "tdata[:, 80:120:8] = 255\n",
    "tdata[:, 81:121:8] = 128\n",
    "tdata[:, 144:160] = 192\n",
    "tdata[14:18,:] = 128\n",
    "tdata[30:32,:] = 128\n",
    "tdata[48:80:8,:] = 64\n",
    "tdata[49:81:8,:] = 128\n",
    "tdata[96:136:8,:] = 128\n",
    "tdata[97:137:8,:] = 64\n",
    "tdata[160:176,:] = 96\n",
    "pyplot.figure(figsize=(8,8))\n",
    "pyplot.imshow(tdata)\n",
    "pyplot.show()"
   ]
  },
  {
   "cell_type": "code",
   "execution_count": null,
   "metadata": {},
   "outputs": [],
   "source": [
    "(fi, fa) = f.set_text('!!TEST!!', 72.0)\n",
    "fau = (255.0 * fa).astype(numpy.uint8)\n",
    "pyplot.imshow(fau)\n",
    "pyplot.show()"
   ]
  },
  {
   "cell_type": "code",
   "execution_count": null,
   "metadata": {},
   "outputs": [],
   "source": [
    "tcopy = numpy.copy(tdata)\n",
    "tcopy[60:60+fau.shape[0], 10:10+fau.shape[1]] = numpy.maximum(\n",
    "    tcopy[60:60+fau.shape[0], 10:10+fau.shape[1]], fau)\n",
    "pyplot.figure(figsize=(8,8))\n",
    "pyplot.imshow(tcopy)\n",
    "pyplot.show()"
   ]
  },
  {
   "cell_type": "code",
   "execution_count": null,
   "metadata": {},
   "outputs": [],
   "source": [
    "fy = 1.7\n",
    "fx = 1.7\n",
    "sy = 3.5\n",
    "sx = 3.5\n",
    "ty = 199.5\n",
    "tx = 199.5\n",
    "tcopy.shape = (tcopy.shape[0], tcopy.shape[1])\n",
    "rdata = _sample_grid_2d(tcopy, numpy.arange(fy,ty,sy), numpy.arange(fx,tx,sx), ksk, k[1])\n",
    "rdata = numpy.maximum(numpy.minimum(rdata, 255.0), 0.0)\n",
    "pyplot.figure(figsize=(8,8))\n",
    "pyplot.imshow(rdata)\n",
    "pyplot.show()"
   ]
  },
  {
   "cell_type": "code",
   "execution_count": null,
   "metadata": {},
   "outputs": [],
   "source": [
    "from isicarchive.imfunc import image_resample\n",
    "rdata2 = image_resample(tcopy, rdata.shape)\n",
    "pyplot.figure(figsize=(8,8))\n",
    "pyplot.imshow(rdata2)\n",
    "pyplot.show()"
   ]
  },
  {
   "cell_type": "code",
   "execution_count": null,
   "metadata": {},
   "outputs": [],
   "source": [
    "import timeit\n",
    "tcopy.shape = (tcopy.shape[0], tcopy.shape[1])\n",
    "%timeit rdata = _sample_grid_2d(tcopy, numpy.arange(fy,ty,sy), numpy.arange(fx,tx,sx), ksk, k[1])"
   ]
  },
  {
   "cell_type": "code",
   "execution_count": null,
   "metadata": {},
   "outputs": [],
   "source": [
    "%timeit rdata2 = image_resample(tcopy, rdata.shape)"
   ]
  }
 ],
 "metadata": {
  "kernelspec": {
   "display_name": "Python 3",
   "language": "python",
   "name": "python3"
  },
  "language_info": {
   "codemirror_mode": {
    "name": "ipython",
    "version": 3
   },
   "file_extension": ".py",
   "mimetype": "text/x-python",
   "name": "python",
   "nbconvert_exporter": "python",
   "pygments_lexer": "ipython3",
   "version": "3.7.4"
  }
 },
 "nbformat": 4,
 "nbformat_minor": 2
}
