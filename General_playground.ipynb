{
 "cells": [
  {
   "cell_type": "code",
   "execution_count": null,
   "metadata": {},
   "outputs": [],
   "source": [
    "import numpy\n",
    "from isicarchive import jitfunc\n",
    "from isicarchive.api import IsicApi\n",
    "from isicarchive.font import Font\n",
    "from isicarchive.sampler import Sampler, _sample_grid_2d\n",
    "from matplotlib import pyplot\n",
    "%matplotlib inline\n",
    "\n",
    "f = Font(None)\n",
    "s = Sampler()\n",
    "k = s._kernels['lanczos3']\n",
    "\n",
    "api = IsicApi()\n",
    "image = api.image('ISIC_0000000')\n",
    "image.load_image_data()\n",
    "rimage = api.resample_image(image.data, (1200,1600))\n",
    "api.set_text_in_image(rimage, 'This is merely a test...', fsize=0.04, min_alpha=1.0, color=[0,0,0], bcolor=[255,255,255])\n",
    "\n",
    "pyplot.figure(figsize=(12,8))\n",
    "pyplot.imshow(rimage)\n",
    "pyplot.show()"
   ]
  }
 ],
 "metadata": {
  "kernelspec": {
   "display_name": "Python 3",
   "language": "python",
   "name": "python3"
  },
  "language_info": {
   "codemirror_mode": {
    "name": "ipython",
    "version": 3
   },
   "file_extension": ".py",
   "mimetype": "text/x-python",
   "name": "python",
   "nbconvert_exporter": "python",
   "pygments_lexer": "ipython3",
   "version": "3.7.4"
  }
 },
 "nbformat": 4,
 "nbformat_minor": 2
}
