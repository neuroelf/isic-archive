{
 "cells": [
  {
   "cell_type": "code",
   "execution_count": null,
   "metadata": {},
   "outputs": [],
   "source": [
    "#import numpy\n",
    "#from isicarchive import jitfunc\n",
    "from isicarchive.api import IsicApi\n",
    "#from isicarchive.font import Font\n",
    "#from isicarchive.sampler import Sampler, _sample_grid_2d\n",
    "\n",
    "username = 'weberj3@mskcc.org'\n",
    "\n",
    "doc_folder = 'C:\\\\Users\\\\weberj3\\\\Documents\\\\'\n",
    "cache_folder = doc_folder + 'ISIC'\n",
    "\n",
    "debug = True\n",
    "\n",
    "api = IsicApi(username, cache_folder=cache_folder, debug=debug)"
   ]
  },
  {
   "cell_type": "code",
   "execution_count": null,
   "metadata": {},
   "outputs": [],
   "source": [
    "from matplotlib import pyplot\n",
    "%matplotlib inline\n",
    "\n",
    "image = api.image('ISIC_0000000')\n",
    "image.load_image_data()\n",
    "rimage = api.resample_image(image.data, (1200,1600))\n",
    "api.set_text_in_image(rimage, 'This is merely a test...', fsize=0.04, min_alpha=1.0, color=[0,0,0], bcolor=[255,255,255])\n",
    "\n",
    "pyplot.figure(figsize=(12,8))\n",
    "pyplot.imshow(rimage)\n",
    "pyplot.show()"
   ]
  },
  {
   "cell_type": "code",
   "execution_count": null,
   "metadata": {},
   "outputs": [],
   "source": [
    "k = [k for k in api.image_cache.keys()]"
   ]
  },
  {
   "cell_type": "code",
   "execution_count": null,
   "metadata": {},
   "outputs": [],
   "source": [
    "api.image_cache[k[12419]]"
   ]
  },
  {
   "cell_type": "code",
   "execution_count": null,
   "metadata": {},
   "outputs": [],
   "source": [
    "from typing import Any\n",
    "from isicarchive import func\n",
    "print(func.parse_expr('$_id.-1$/image_$_id$_$name$.jpg', api.image_cache[k[134]]))"
   ]
  },
  {
   "cell_type": "code",
   "execution_count": null,
   "metadata": {},
   "outputs": [],
   "source": [
    "api.select_images([])\n",
    "len(api.image_selection)"
   ]
  },
  {
   "cell_type": "code",
   "execution_count": null,
   "metadata": {},
   "outputs": [],
   "source": [
    "api.image_selection[0]"
   ]
  },
  {
   "cell_type": "code",
   "execution_count": null,
   "metadata": {},
   "outputs": [],
   "source": [
    "from isicarchive import func\n",
    "abbr = func.getxattr(api._features, '[].abbreviation')"
   ]
  },
  {
   "cell_type": "code",
   "execution_count": null,
   "metadata": {},
   "outputs": [],
   "source": [
    "t = api.set_text_in_image(None, '\\n'.join(abbr), fsize=48.0,bcolor=[255,255,255], color=[0,0,0])\n",
    "t"
   ]
  },
  {
   "cell_type": "code",
   "execution_count": null,
   "metadata": {},
   "outputs": [],
   "source": [
    "from matplotlib import pyplot\n",
    "%matplotlib inline\n",
    "\n",
    "pyplot.figure(figsize=(16,24))\n",
    "pyplot.imshow(t[4][0:2000,:,:])\n",
    "pyplot.show()"
   ]
  },
  {
   "cell_type": "code",
   "execution_count": null,
   "metadata": {},
   "outputs": [],
   "source": [
    "api._features"
   ]
  }
 ],
 "metadata": {
  "kernelspec": {
   "display_name": "Python 3",
   "language": "python",
   "name": "python3"
  },
  "language_info": {
   "codemirror_mode": {
    "name": "ipython",
    "version": 3
   },
   "file_extension": ".py",
   "mimetype": "text/x-python",
   "name": "python",
   "nbconvert_exporter": "python",
   "pygments_lexer": "ipython3",
   "version": "3.7.4"
  }
 },
 "nbformat": 4,
 "nbformat_minor": 2
}
