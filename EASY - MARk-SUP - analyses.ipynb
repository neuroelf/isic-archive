{
 "cells": [
  {
   "cell_type": "code",
   "execution_count": null,
   "metadata": {},
   "outputs": [],
   "source": [
    "# imports\n",
    "import os\n",
    "import numpy\n",
    "from isicarchive.api import IsicApi\n",
    "\n",
    "# please change the username accordingly!\n",
    "username = 'weberj3@mskcc.org'\n",
    "\n",
    "# root folder for all ISIC related data\n",
    "doc_folder = 'Z:\\\\10.Imaging Informatics\\\\'\n",
    "\n",
    "# cache folder\n",
    "cache_folder = doc_folder + 'ISIC' + os.sep + 'cache'\n",
    "\n",
    "# show URL requests (for debugging purposes only!)\n",
    "debug = False\n",
    "\n",
    "# instantiate API object\n",
    "api = IsicApi(username, cache_folder=cache_folder, debug=debug)"
   ]
  },
  {
   "cell_type": "code",
   "execution_count": null,
   "metadata": {},
   "outputs": [],
   "source": [
    "# function for mean and sample STD\n",
    "def mean_std(a:list, is_sample:bool=True):\n",
    "    ddof = 1 if is_sample else 0\n",
    "    return (numpy.mean(a), numpy.std(a, ddof=ddof))"
   ]
  },
  {
   "cell_type": "code",
   "execution_count": null,
   "metadata": {},
   "outputs": [],
   "source": [
    "# study folder\n",
    "study_folder = doc_folder + 'EASY' + os.sep + 'PILOT' + os.sep\n",
    "\n",
    "# load study and data\n",
    "study = api.study('ISIC Annotation Study - All Features')\n",
    "study.cache_image_data()\n",
    "study.load_annotations()"
   ]
  },
  {
   "cell_type": "code",
   "execution_count": null,
   "metadata": {},
   "outputs": [],
   "source": [
    "# load meta data\n",
    "meta_data_url = 'https://raw.githubusercontent.com/neuroelf/isicarchive/master/data/EASY_pilot_diagnoses.csv'\n",
    "study.load_meta_data(meta_data_url, list_to_dict=True,\n",
    "    dict_key='name', extract_key=['diagnosis', 'exemplar'])"
   ]
  },
  {
   "cell_type": "code",
   "execution_count": null,
   "metadata": {},
   "outputs": [],
   "source": [
    "# select only from users that completed the study\n",
    "completion = 140\n",
    "users = [u for (u, c) in study.user_completion.items() if c == completion]\n",
    "# users"
   ]
  },
  {
   "cell_type": "code",
   "execution_count": null,
   "metadata": {},
   "outputs": [],
   "source": [
    "# create heatmaps with default settings\n",
    "mix_colors = False\n",
    "underlay_gray = 0.8\n",
    "study_stats = study.image_heatmaps(study_folder, users=users,\n",
    "    mix_colors=mix_colors, underlay_gray=underlay_gray)"
   ]
  },
  {
   "cell_type": "code",
   "execution_count": null,
   "metadata": {},
   "outputs": [],
   "source": [
    "# and create a dictionary mapping diagnosis to a list of images\n",
    "diag_images = dict()\n",
    "for (name, diag) in study.meta_data['diagnosis'].items():\n",
    "    if not diag in diag_images:\n",
    "        diag_images[diag] = []\n",
    "    diag_images[diag].append(name)\n",
    "# diag_images"
   ]
  },
  {
   "cell_type": "code",
   "execution_count": null,
   "metadata": {},
   "outputs": [],
   "source": [
    "# same for exemplar features\n",
    "exem_images = dict()\n",
    "for (name, exemplar) in study.meta_data['exemplar'].items():\n",
    "    if not exemplar:\n",
    "        continue\n",
    "    if not exemplar in exem_images:\n",
    "        exem_images[exemplar] = []\n",
    "    exem_images[exemplar].append(name)\n",
    "# exem_images"
   ]
  },
  {
   "cell_type": "code",
   "execution_count": null,
   "metadata": {},
   "outputs": [],
   "source": [
    "# how many annotations (mean, std) for each of the diagnoses?\n",
    "print('On average, images with diagnosis ...')\n",
    "for diagnosis in sorted(diag_images.keys()):\n",
    "    study.select_annotations(images=diag_images[diagnosis], users=users)\n",
    "    ao = [a for a in study.annotation_selection.values()]\n",
    "    fn = [None] * len(ao)\n",
    "    for (idx,a) in enumerate(ao):\n",
    "        fn[idx] = len(a.features)\n",
    "    (m,s) = mean_std(fn)\n",
    "    print(' - \"{0:s}\" have {1:.2f} ± {2:.2f} annotations.'.format(diagnosis, m, s))"
   ]
  },
  {
   "cell_type": "code",
   "execution_count": null,
   "metadata": {},
   "outputs": [],
   "source": [
    "# how many exemplar feature annotations for each image with an exemplar?\n",
    "for exemplar in sorted(exem_images.keys()):\n",
    "    images = exem_images[exemplar]\n",
    "    print('Exemplar \"{0:s}\" with {1:d} images:'.format(exemplar, len(images)))\n",
    "    for image in images:\n",
    "        imag_diag = study.meta_data['diagnosis'][image]\n",
    "        study.select_annotations(images=[image], users=users)\n",
    "        ao = [a for a in study.annotation_selection.values()]\n",
    "        found_direct = 0\n",
    "        found_category = 0\n",
    "        found_specific = 0\n",
    "        for (idx,a) in enumerate(ao):\n",
    "            if exemplar in a.features:\n",
    "                found_direct += 1\n",
    "                found_category += 1\n",
    "                found_specific +=1\n",
    "                continue\n",
    "            found_at_all = False\n",
    "            for feature in a.features:\n",
    "                feature = feature.split(' : ')\n",
    "                if exemplar[0:len(feature[0])] == feature[0]:\n",
    "                    found_category += 1\n",
    "                    found_at_all = True\n",
    "                if feature[-1] in exemplar:\n",
    "                    found_specific += 1\n",
    "                    found_at_all = True\n",
    "                if found_at_all:\n",
    "                    break\n",
    "        print((' - {0:s} ({1:s}) has {2:d} annotations; {3:d}, {4:d}, and {5:d}' +\n",
    "               ' with the full, category, and specific exemplar').format(\n",
    "                image, imag_diag, len(ao), found_direct, found_category, found_specific))"
   ]
  },
  {
   "cell_type": "code",
   "execution_count": null,
   "metadata": {},
   "outputs": [],
   "source": [
    "# for each image, test whether all five raters agreed on one feature\n",
    "image_agreed = [False] * len(study.images)\n",
    "image_agreed_features = [[] for l in range(len(study.images))]\n",
    "for (idx, image) in enumerate(study.images):\n",
    "    image_id = image['_id']\n",
    "    study.select_annotations(images=[image_id], users=users)\n",
    "    ao = [a for a in study.annotation_selection.values()]\n",
    "    for feature in ao[0].features.keys():\n",
    "        agreed = [False] * len(ao)\n",
    "        feature_syns = api.feature_synonyms(feature)\n",
    "        for (aidx, a) in enumerate(ao):\n",
    "            for f in feature_syns:\n",
    "                if f in a.features:\n",
    "                    agreed[aidx] = True\n",
    "                    break\n",
    "        if all(agreed):\n",
    "            image_agreed[idx] = True\n",
    "            image_agreed_features[idx].append(feature)\n",
    "print(('There are {0:d} images where all raters agreed on ' +\n",
    "       'at least one specific feature being present:').format(numpy.sum(image_agreed)))\n",
    "total_agreements = 0\n",
    "for (image, a, af) in zip(study.images, image_agreed, image_agreed_features):\n",
    "    if a:\n",
    "        total_agreements += len(af)\n",
    "        image_name = image['name']\n",
    "        try:\n",
    "            image_diag = study.meta_data['diagnosis'][image_name]\n",
    "        except:\n",
    "            image_diag = 'missing diagnosis'\n",
    "        print(' - {0:s} ({1:s}): {2:s}'.format(image_name,\n",
    "            image_diag, ', '.join(af)))\n",
    "print('This means a total of {0:d} agreements.'.format(total_agreements))"
   ]
  },
  {
   "cell_type": "code",
   "execution_count": null,
   "metadata": {},
   "outputs": [],
   "source": [
    "# count orphan features\n",
    "orphans = 0\n",
    "orphan_image_features = []\n",
    "orphan_features = dict()\n",
    "for (idx, image) in enumerate(study.images):\n",
    "    image_id = image['_id']\n",
    "    image_name = image['name']\n",
    "    study.select_annotations(images=[image_id], users=users)\n",
    "    ao = [a for a in study.annotation_selection.values()]\n",
    "    for (aidx, a) in enumerate(ao):\n",
    "        for feature in a.features:\n",
    "            is_orphan = True\n",
    "            feature_syns = api.feature_synonyms(feature)\n",
    "            for (aidx2, a2) in enumerate(ao):\n",
    "                if aidx == aidx2:\n",
    "                    continue\n",
    "                for feature2 in a2.features:\n",
    "                    if feature2 in feature_syns:\n",
    "                        is_orphan = False\n",
    "                        break\n",
    "                if not is_orphan:\n",
    "                    break\n",
    "            if is_orphan:\n",
    "                orphans += 1\n",
    "                orphan_image_features.append(feature + ' in ' + image_name + ' by ' + a.user['name'])\n",
    "                if not feature_syns[0] in orphan_features:\n",
    "                    orphan_features[feature_syns[0]] = 0\n",
    "                orphan_features[feature_syns[0]] += 1\n",
    "print('{0:d} orphan features were selected:'.format(orphans))\n",
    "for orphaned in orphan_image_features:\n",
    "    print(' - ' + orphaned)\n",
    "print('Presenting by list of features (collapsing synonyms):')\n",
    "for feature in sorted(orphan_features.keys()):\n",
    "    print(' - {0:-2d} times \"{1:s}\"'.format(orphan_features[feature], feature))"
   ]
  },
  {
   "cell_type": "code",
   "execution_count": null,
   "metadata": {},
   "outputs": [],
   "source": [
    "# show the first image of the study\n",
    "from matplotlib import pyplot\n",
    "%matplotlib inline\n",
    "\n",
    "image = api.image(study.images[0])\n",
    "image.load_image_data()\n",
    "rimage = api.resample_image(image.data, (1200,1600))\n",
    "api.set_text_in_image(rimage, 'Image: ' + image.name, fsize=0.04, min_alpha=1.0, fcolor=[0,0,0], bcolor=[255,255,255])\n",
    "\n",
    "pyplot.figure(figsize=(16,12))\n",
    "pyplot.imshow(rimage)\n",
    "pyplot.show()"
   ]
  }
 ],
 "metadata": {
  "kernelspec": {
   "display_name": "Python 3",
   "language": "python",
   "name": "python3"
  },
  "language_info": {
   "codemirror_mode": {
    "name": "ipython",
    "version": 3
   },
   "file_extension": ".py",
   "mimetype": "text/x-python",
   "name": "python",
   "nbconvert_exporter": "python",
   "pygments_lexer": "ipython3",
   "version": "3.7.4"
  }
 },
 "nbformat": 4,
 "nbformat_minor": 2
}
