{
 "cells": [
  {
   "cell_type": "markdown",
   "metadata": {},
   "source": [
    "# ISIC test notebook for isicarchive package\n",
    "\n",
    "## Installation\n",
    "To install, please use\n",
    "~~~~\n",
    "pip install git+https://github.com/neuroelf/isicarchive\n",
    "~~~~"
   ]
  },
  {
   "cell_type": "code",
   "execution_count": 1,
   "metadata": {},
   "outputs": [
    {
     "name": "stdout",
     "output_type": "stream",
     "text": [
      "Can't uninstall 'isicarchive'. No files were found to uninstall.\n",
      "Collecting git+https://github.com/neuroelf/isicarchive\n",
      "  Cloning https://github.com/neuroelf/isicarchive to /private/var/folders/gl/z4mymxss2hx6gq02wy9s5y6h0000gn/T/pip-req-build-v7_7niup\n",
      "  Running command git clone -q https://github.com/neuroelf/isicarchive /private/var/folders/gl/z4mymxss2hx6gq02wy9s5y6h0000gn/T/pip-req-build-v7_7niup\n",
      "Requirement already satisfied: imageio>=2.5.0 in /anaconda3/lib/python3.7/site-packages (from isicarchive==0.3.5) (2.5.0)\n",
      "Requirement already satisfied: numba>=0.45.1 in /anaconda3/lib/python3.7/site-packages (from isicarchive==0.3.5) (0.45.1)\n",
      "Requirement already satisfied: numpy>=1.16.2 in /anaconda3/lib/python3.7/site-packages (from isicarchive==0.3.5) (1.16.4)\n",
      "Requirement already satisfied: requests>=2.22.0 in /anaconda3/lib/python3.7/site-packages (from isicarchive==0.3.5) (2.22.0)\n",
      "Requirement already satisfied: llvmlite>=0.29.0dev0 in /anaconda3/lib/python3.7/site-packages (from numba>=0.45.1->isicarchive==0.3.5) (0.29.0)\n",
      "Requirement already satisfied: urllib3!=1.25.0,!=1.25.1,<1.26,>=1.21.1 in /anaconda3/lib/python3.7/site-packages (from requests>=2.22.0->isicarchive==0.3.5) (1.24.2)\n",
      "Requirement already satisfied: certifi>=2017.4.17 in /anaconda3/lib/python3.7/site-packages (from requests>=2.22.0->isicarchive==0.3.5) (2019.6.16)\n",
      "Requirement already satisfied: chardet<3.1.0,>=3.0.2 in /anaconda3/lib/python3.7/site-packages (from requests>=2.22.0->isicarchive==0.3.5) (3.0.4)\n",
      "Requirement already satisfied: idna<2.9,>=2.5 in /anaconda3/lib/python3.7/site-packages (from requests>=2.22.0->isicarchive==0.3.5) (2.8)\n",
      "Building wheels for collected packages: isicarchive\n",
      "  Building wheel for isicarchive (setup.py) ... \u001b[?25ldone\n",
      "\u001b[?25h  Stored in directory: /private/var/folders/gl/z4mymxss2hx6gq02wy9s5y6h0000gn/T/pip-ephem-wheel-cache-_tyt8njz/wheels/ba/cf/32/48caf3dba09770da83411064c00c38010306f48fd3bcdb784a\n",
      "Successfully built isicarchive\n",
      "Installing collected packages: isicarchive\n",
      "  Found existing installation: isicarchive 0.3.0\n",
      "    Can't uninstall 'isicarchive'. No files were found to uninstall.\n",
      "Successfully installed isicarchive-0.3.5\n"
     ]
    }
   ],
   "source": [
    "# Make sure the latest isic-archive package is installed!\n",
    "import sys\n",
    "!{sys.executable} -m pip uninstall -y isicarchive\n",
    "!{sys.executable} -m pip install git+https://github.com/neuroelf/isicarchive"
   ]
  },
  {
   "cell_type": "markdown",
   "metadata": {},
   "source": [
    "## Import and use the ```IsicApi``` object from the isicarchive module"
   ]
  },
  {
   "cell_type": "code",
   "execution_count": 2,
   "metadata": {},
   "outputs": [],
   "source": [
    "# Import isicapi\n",
    "from isicarchive import IsicApi, func"
   ]
  },
  {
   "cell_type": "code",
   "execution_count": 3,
   "metadata": {},
   "outputs": [],
   "source": [
    "# Set username and password (to None!)\n",
    "username = 'weberj3@mskcc.org'\n",
    "password = None"
   ]
  },
  {
   "cell_type": "code",
   "execution_count": 4,
   "metadata": {},
   "outputs": [
    {
     "name": "stdout",
     "output_type": "stream",
     "text": [
      "Password for \"weberj3@mskcc.org\":········\n"
     ]
    },
    {
     "data": {
      "text/plain": [
       "IsicApi object with properties:\n",
       "  base_url     - https://isic-archive.com/api/v1\n",
       "  cache_folder - /Data/MSKCC/isicarchive/cache\n",
       "  username     - weberj3@mskcc.org (auth)\n",
       "  - 29 datasets available\n",
       "  - 18 studies available"
      ]
     },
     "execution_count": 4,
     "metadata": {},
     "output_type": "execute_result"
    }
   ],
   "source": [
    "# Instantiate API, will ask for password using getpass.getpass(...)\n",
    "#api = IsicApi(username, password, cache_folder='C:\\\\Users\\\\weberj3\\\\Documents\\\\ISIC')\n",
    "api = IsicApi(username, password, cache_folder='/Data/MSKCC/isicarchive/cache')\n",
    "api"
   ]
  },
  {
   "cell_type": "markdown",
   "metadata": {},
   "source": [
    "## Example usage to retrieve a study and an image from the study"
   ]
  },
  {
   "cell_type": "code",
   "execution_count": 5,
   "metadata": {},
   "outputs": [
    {
     "data": {
      "text/plain": [
       "IsicApi.Study (id = 58d9189ad831133741859b5d):\n",
       "  name          - EASY Study - 75 Image, full featureset\n",
       "  description   - \n",
       "  602 annotations (0 loaded)\n",
       "  27 features\n",
       "  86 images (86 loaded)\n",
       "  1 questions\n",
       "  - created by aadikalloo at 2017-03-27T13:50:18.585000+00:00"
      ]
     },
     "execution_count": 5,
     "metadata": {},
     "output_type": "execute_result"
    }
   ],
   "source": [
    "# Retrieve a study\n",
    "study = api.study('EASY Study - 75 Image, full featureset')\n",
    "study"
   ]
  },
  {
   "cell_type": "code",
   "execution_count": 6,
   "metadata": {},
   "outputs": [
    {
     "data": {
      "text/plain": [
       "{'Globules / Clods : Regular': 15,\n",
       " 'Structureless : Blotch regular': 20,\n",
       " 'Dots : Regular': 26,\n",
       " 'Network : Typical pigment network / Reticulation': 50,\n",
       " 'Globules / Clods : Milky red': 10,\n",
       " 'Structureless : Milky red areas': 25,\n",
       " 'Vessels : Corkscrew': 6,\n",
       " 'Vessels : Polymorphous': 37,\n",
       " 'Globules / Clods : Irregular': 61,\n",
       " 'Network : Atypical pigment network / Reticulation': 67,\n",
       " 'Structureless : Blue-whitish veil': 52,\n",
       " 'Dots : Irregular': 46,\n",
       " 'Regression structures : Peppering / Granularity': 47,\n",
       " 'Pattern : Homogeneous : NOS': 21,\n",
       " 'Globules / Clods : Rim of brown globules': 11,\n",
       " 'Globules / Clods : Cobblestone pattern': 12,\n",
       " 'Miscellaneous : Pseudopods': 23,\n",
       " 'Miscellaneous : Radial streaming': 12,\n",
       " 'Regression structures : Scarlike depigmentation': 19,\n",
       " 'Structureless : Blotch irregular': 21,\n",
       " 'Vessels : Dotted': 30,\n",
       " 'Pattern : Starburst': 25,\n",
       " 'Lines : Angulated lines / Polygons / Zig-zag pattern': 19,\n",
       " 'Vessels : Linear irregular': 7,\n",
       " 'Network : Negative pigment network': 22,\n",
       " 'Shiny white structures : NOS': 16,\n",
       " 'Structureless : Structureless brown (tan)': 10}"
      ]
     },
     "execution_count": 6,
     "metadata": {},
     "output_type": "execute_result"
    }
   ],
   "source": [
    "# retrieve the annotations for this study (takes a while)\n",
    "study.load_annotations()\n",
    "study.loaded_features"
   ]
  },
  {
   "cell_type": "code",
   "execution_count": 7,
   "metadata": {},
   "outputs": [
    {
     "data": {
      "text/plain": [
       "IsicApi.Image (id = 58b0a360d831137d0a388344):\n",
       "  name          - ISIC_0016090\n",
       "  dataset: EASY: MSK (5a2ecc5d1165975c94594294)\n",
       "  meta:\n",
       "    acquisition: {\"image_type\": \"dermoscopic\", \"pixelsX\": 2592, \"pixelsY\": 1936}\n",
       "    clinical: <class 'dict'>\n",
       "    private: {\"age\": 28, \"originalFilename\": \"EASY_1.jpg\"}\n",
       "    unstructured: <class 'dict'>\n",
       "  notes:\n",
       "    reviewed: {\"accepted\": true, \"time\": \"2017-02-24T21:34:40.748000+00:00\", \"userId\": \"55d4cde89fc3c1490e995086\"}\n",
       "    tags: []\n",
       "  - image data: 1936x2592 pixels (3 planes)\n",
       "  - 994 superpixels in the image (mapped)\n",
       "  - created by aadikalloo at 2017-02-24T21:19:28.156000+00:00"
      ]
     },
     "execution_count": 7,
     "metadata": {},
     "output_type": "execute_result"
    }
   ],
   "source": [
    "# Retrieve an image for this study\n",
    "image = api.image(study.images[0])\n",
    "\n",
    "# Load the image data (from cache or online)\n",
    "image.load_imagedata()\n",
    "\n",
    "# And load the superpixels, and parse into coordinates map\n",
    "image.load_superpixels()\n",
    "image.map_superpixels()\n",
    "image"
   ]
  },
  {
   "cell_type": "code",
   "execution_count": 8,
   "metadata": {},
   "outputs": [
    {
     "data": {
      "text/plain": [
       "IsicApi.Dataset (id = 5a2ecc5d1165975c94594294):\n",
       "  name          - EASY: MSK\n",
       "  description   - Full image set for MSK EASY Study.\n",
       "  owner         - Memorial Sloan Kettering Cancer Center\n",
       "  2 images for review\n",
       "  - created by aadikalloo at 2017-02-10T16:24:58.396000+00:00"
      ]
     },
     "execution_count": 8,
     "metadata": {},
     "output_type": "execute_result"
    }
   ],
   "source": [
    "dataset = api.dataset(image.dataset)\n",
    "dataset"
   ]
  }
 ],
 "metadata": {
  "kernelspec": {
   "display_name": "Python 3",
   "language": "python",
   "name": "python3"
  },
  "language_info": {
   "codemirror_mode": {
    "name": "ipython",
    "version": 3
   },
   "file_extension": ".py",
   "mimetype": "text/x-python",
   "name": "python",
   "nbconvert_exporter": "python",
   "pygments_lexer": "ipython3",
   "version": "3.7.4"
  }
 },
 "nbformat": 4,
 "nbformat_minor": 2
}
