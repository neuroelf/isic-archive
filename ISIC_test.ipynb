{
 "cells": [
  {
   "cell_type": "markdown",
   "metadata": {},
   "source": [
    "# ISIC test notebook for isicarchive package\n",
    "\n",
    "## Installation\n",
    "To install the isicarchive package from github (more frequent\n",
    "updates for now), please use\n",
    "~~~~\n",
    "pip install git+https://github.com/neuroelf/isicarchive\n",
    "~~~~\n",
    "\n",
    "Otherwise, you can download a relatively more stable version\n",
    "from PyPi using\n",
    "~~~~\n",
    "pip install isicarchive\n",
    "~~~~"
   ]
  },
  {
   "cell_type": "code",
   "execution_count": 1,
   "metadata": {},
   "outputs": [
    {
     "name": "stdout",
     "output_type": "stream",
     "text": [
      "Can't uninstall 'isicarchive'. No files were found to uninstall.\n",
      "Collecting git+https://github.com/neuroelf/isicarchive\n",
      "  Cloning https://github.com/neuroelf/isicarchive to c:\\users\\weberj3\\appdata\\local\\temp\\pip-req-build-lsyx_f3x\n",
      "Requirement already satisfied: imageio>=2.5.0 in c:\\users\\weberj3\\appdata\\local\\continuum\\anaconda3\\lib\\site-packages (from isicarchive==0.4.0) (2.5.0)\n",
      "Requirement already satisfied: numba>=0.45.1 in c:\\users\\weberj3\\appdata\\local\\continuum\\anaconda3\\lib\\site-packages (from isicarchive==0.4.0) (0.45.1)\n",
      "Requirement already satisfied: numpy>=1.16.2 in c:\\users\\weberj3\\appdata\\local\\continuum\\anaconda3\\lib\\site-packages (from isicarchive==0.4.0) (1.16.4)\n",
      "Requirement already satisfied: requests>=2.22.0 in c:\\users\\weberj3\\appdata\\local\\continuum\\anaconda3\\lib\\site-packages (from isicarchive==0.4.0) (2.22.0)\n",
      "Requirement already satisfied: llvmlite>=0.29.0dev0 in c:\\users\\weberj3\\appdata\\local\\continuum\\anaconda3\\lib\\site-packages (from numba>=0.45.1->isicarchive==0.4.0) (0.29.0)\n",
      "Requirement already satisfied: chardet<3.1.0,>=3.0.2 in c:\\users\\weberj3\\appdata\\local\\continuum\\anaconda3\\lib\\site-packages (from requests>=2.22.0->isicarchive==0.4.0) (3.0.4)\n",
      "Requirement already satisfied: urllib3!=1.25.0,!=1.25.1,<1.26,>=1.21.1 in c:\\users\\weberj3\\appdata\\local\\continuum\\anaconda3\\lib\\site-packages (from requests>=2.22.0->isicarchive==0.4.0) (1.24.2)\n",
      "Requirement already satisfied: certifi>=2017.4.17 in c:\\users\\weberj3\\appdata\\local\\continuum\\anaconda3\\lib\\site-packages (from requests>=2.22.0->isicarchive==0.4.0) (2019.6.16)\n",
      "Requirement already satisfied: idna<2.9,>=2.5 in c:\\users\\weberj3\\appdata\\local\\continuum\\anaconda3\\lib\\site-packages (from requests>=2.22.0->isicarchive==0.4.0) (2.8)\n",
      "Building wheels for collected packages: isicarchive\n",
      "  Building wheel for isicarchive (setup.py): started\n",
      "  Building wheel for isicarchive (setup.py): finished with status 'done'\n",
      "  Stored in directory: C:\\Users\\weberj3\\AppData\\Local\\Temp\\pip-ephem-wheel-cache-9oeabx7f\\wheels\\ba\\cf\\32\\48caf3dba09770da83411064c00c38010306f48fd3bcdb784a\n",
      "Successfully built isicarchive\n",
      "Installing collected packages: isicarchive\n",
      "  Found existing installation: isicarchive 0.2.3\n",
      "    Can't uninstall 'isicarchive'. No files were found to uninstall.\n",
      "Successfully installed isicarchive-0.4.0\n"
     ]
    },
    {
     "name": "stderr",
     "output_type": "stream",
     "text": [
      "  Running command git clone -q https://github.com/neuroelf/isicarchive 'C:\\Users\\weberj3\\AppData\\Local\\Temp\\pip-req-build-lsyx_f3x'\n"
     ]
    }
   ],
   "source": [
    "# Make sure the latest isicarchive package is installed!\n",
    "import sys\n",
    "!{sys.executable} -m pip uninstall -y isicarchive\n",
    "!{sys.executable} -m pip install git+https://github.com/neuroelf/isicarchive"
   ]
  },
  {
   "cell_type": "markdown",
   "metadata": {},
   "source": [
    "## Import and use the ```IsicApi``` object from the isicarchive module\n",
    "\n",
    "### ***Please change the username and cache_folder!***"
   ]
  },
  {
   "cell_type": "code",
   "execution_count": 2,
   "metadata": {},
   "outputs": [
    {
     "name": "stdout",
     "output_type": "stream",
     "text": [
      "Password for \"weberj3@mskcc.org\":········\n"
     ]
    },
    {
     "data": {
      "text/plain": [
       "isicarchive.api.IsicApi({\n",
       "    'base_url': 'https://isic-archive.com/api/v1',\n",
       "    'username': 'weberj3@mskcc.org',\n",
       "    'cache_folder': 'C:\\Users\\weberj3\\Documents\\git\\ISIC\\cache',\n",
       "    'cached_images': { ... dict with 68708 fields},\n",
       "    'loaded_datasets': { ... dict with 29 fields},\n",
       "    'loaded_studies': { ... dict with 18 fields},\n",
       "    'obj_annotations': { ... dict with 0 fields},\n",
       "    'obj_datasets': { ... dict with 0 fields},\n",
       "    'obj_images': { ... dict with 0 fields},\n",
       "    'obj_studies': { ... dict with 0 fields},})"
      ]
     },
     "execution_count": 2,
     "metadata": {},
     "output_type": "execute_result"
    }
   ],
   "source": [
    "# Import isicapi\n",
    "from isicarchive import IsicApi, func\n",
    "\n",
    "# Set username and password (to None!)\n",
    "username = 'weberj3@mskcc.org'\n",
    "password = None\n",
    "cache_folder = 'C:\\\\Users\\\\weberj3\\\\Documents\\\\git\\\\ISIC\\\\cache'\n",
    "#cache_folder = '/Data/MSKCC/isicarchive/cache'\n",
    "\n",
    "# Instantiate API, will ask for password using getpass.getpass(...)\n",
    "api = IsicApi(username, password, cache_folder=cache_folder)\n",
    "\n",
    "# load cached images\n",
    "api.cache_images()\n",
    "\n",
    "# pretty print object representation\n",
    "api"
   ]
  },
  {
   "cell_type": "markdown",
   "metadata": {},
   "source": [
    "## Example usage to retrieve a study and an image from the study"
   ]
  },
  {
   "cell_type": "code",
   "execution_count": 3,
   "metadata": {},
   "outputs": [
    {
     "data": {
      "text/plain": [
       "isicarchive.study.Study({\n",
       "    'id': '58d9189ad831133741859b5d',\n",
       "    'name': 'EASY Study - 75 Image, full featureset',\n",
       "    'description': '',\n",
       "    'annotations': [ ... list with 602 items],\n",
       "    'features': [ ... list with 27 items],\n",
       "    'images': [ ... list with 86 items],\n",
       "    'questions': [ ... list with 1 items],\n",
       "    'users': [ ... list with 7 items],})"
      ]
     },
     "execution_count": 3,
     "metadata": {},
     "output_type": "execute_result"
    }
   ],
   "source": [
    "# Retrieve a study\n",
    "study = api.study('EASY Study - 75 Image, full featureset')\n",
    "\n",
    "# load annotations\n",
    "study.load_annotations()\n",
    "\n",
    "# print some information about the study\n",
    "study"
   ]
  },
  {
   "cell_type": "code",
   "execution_count": 4,
   "metadata": {},
   "outputs": [
    {
     "data": {
      "text/plain": [
       "['ISIC_0016090',\n",
       " 'ISIC_0016091',\n",
       " 'ISIC_0016092',\n",
       " 'ISIC_0016093',\n",
       " 'ISIC_0016094',\n",
       " 'ISIC_0016095',\n",
       " 'ISIC_0016096',\n",
       " 'ISIC_0016097',\n",
       " 'ISIC_0016098',\n",
       " 'ISIC_0016099',\n",
       " 'ISIC_0016100',\n",
       " 'ISIC_0016101',\n",
       " 'ISIC_0016102',\n",
       " 'ISIC_0016103',\n",
       " 'ISIC_0016104',\n",
       " 'ISIC_0016105',\n",
       " 'ISIC_0016106',\n",
       " 'ISIC_0016107',\n",
       " 'ISIC_0016108',\n",
       " 'ISIC_0016109',\n",
       " 'ISIC_0016110',\n",
       " 'ISIC_0016111',\n",
       " 'ISIC_0016112',\n",
       " 'ISIC_0016113',\n",
       " 'ISIC_0016114',\n",
       " 'ISIC_0016115',\n",
       " 'ISIC_0016116',\n",
       " 'ISIC_0016117',\n",
       " 'ISIC_0016118',\n",
       " 'ISIC_0016119',\n",
       " 'ISIC_0016120',\n",
       " 'ISIC_0016121',\n",
       " 'ISIC_0016122',\n",
       " 'ISIC_0016123',\n",
       " 'ISIC_0016124',\n",
       " 'ISIC_0016125',\n",
       " 'ISIC_0016126',\n",
       " 'ISIC_0016127',\n",
       " 'ISIC_0016128',\n",
       " 'ISIC_0016129',\n",
       " 'ISIC_0016130',\n",
       " 'ISIC_0016131',\n",
       " 'ISIC_0016132',\n",
       " 'ISIC_0016133',\n",
       " 'ISIC_0016134',\n",
       " 'ISIC_0016135',\n",
       " 'ISIC_0016136',\n",
       " 'ISIC_0016137',\n",
       " 'ISIC_0016138',\n",
       " 'ISIC_0016139',\n",
       " 'ISIC_0016140',\n",
       " 'ISIC_0016141',\n",
       " 'ISIC_0016142',\n",
       " 'ISIC_0016143',\n",
       " 'ISIC_0016144',\n",
       " 'ISIC_0016145',\n",
       " 'ISIC_0016146',\n",
       " 'ISIC_0016147',\n",
       " 'ISIC_0016148',\n",
       " 'ISIC_0016149',\n",
       " 'ISIC_0016150',\n",
       " 'ISIC_0016151',\n",
       " 'ISIC_0016152',\n",
       " 'ISIC_0016153',\n",
       " 'ISIC_0016154',\n",
       " 'ISIC_0016155',\n",
       " 'ISIC_0016156',\n",
       " 'ISIC_0016157',\n",
       " 'ISIC_0016158',\n",
       " 'ISIC_0016159',\n",
       " 'ISIC_0016160',\n",
       " 'ISIC_0016161',\n",
       " 'ISIC_0016162',\n",
       " 'ISIC_0016163',\n",
       " 'ISIC_0016164',\n",
       " 'ISIC_0016165',\n",
       " 'ISIC_0016166',\n",
       " 'ISIC_0016167',\n",
       " 'ISIC_0016168',\n",
       " 'ISIC_0016169',\n",
       " 'ISIC_0016170',\n",
       " 'ISIC_0016171',\n",
       " 'ISIC_0016172',\n",
       " 'ISIC_0016173',\n",
       " 'ISIC_0016174',\n",
       " 'ISIC_0016175']"
      ]
     },
     "execution_count": 4,
     "metadata": {},
     "output_type": "execute_result"
    }
   ],
   "source": [
    "# print list of study images\n",
    "study.image_names()"
   ]
  },
  {
   "cell_type": "code",
   "execution_count": 5,
   "metadata": {},
   "outputs": [
    {
     "data": {
      "text/plain": [
       "isicarchive.annotation.Annotation({\n",
       "    'id': '58d9189ad831133741859b5f',\n",
       "    'study_id': '58d9189ad831133741859b5d',\n",
       "    'study_name': 'EASY Study - 75 Image, full featureset',\n",
       "    'image_id': '58b0a360d831137d0a388344',\n",
       "    'image_name': 'ISIC_0016090',\n",
       "    'user_id': '578e64b09fc3c10d6fd12e4f',\n",
       "    'user_name': 'User 6YB2',\n",
       "    'user_lastname': None,\n",
       "    'features': '{'Globules / Clods : Regular', 'Structureless : Blotch regular'}',})"
      ]
     },
     "execution_count": 5,
     "metadata": {},
     "output_type": "execute_result"
    }
   ],
   "source": [
    "# Retrieve an annotation\n",
    "annotation = api.annotation(study.annotations[0])\n",
    "\n",
    "# print information about the annotation\n",
    "annotation"
   ]
  },
  {
   "cell_type": "code",
   "execution_count": 6,
   "metadata": {},
   "outputs": [
    {
     "data": {
      "text/plain": [
       "isicarchive.image.Image({\n",
       "    'id': '58b0a360d831137d0a388344',\n",
       "    'name': 'ISIC_0016090',\n",
       "    'dataset_id': '5a2ecc5d1165975c94594294',\n",
       "    'dataset_name': 'EASY: MSK',\n",
       "    'meta_acquisition': '{'image_type': 'dermoscopic', 'pixelsX': 2592, 'pixelsY': 1936}',\n",
       "    'meta_clinical': '{'age_approx', 'anatom_site_general', 'benign_malignant', 'diagnosis', 'diagnosis_confirm_type', 'melanocytic', 'nevus_type', 'sex'}',\n",
       "    'meta_clinical_benign_malignant': 'benign',\n",
       "    'meta_clinical_diagnosis': 'nevus',\n",
       "    'meta_clinical_diagnosis_confirm_type': 'single image expert consensus',\n",
       "    'meta_clinical_melanocytic': True,\n",
       "    'notes_reviewed': '{'accepted': True, 'time': '2017-02-24T21:34:40.748000+00:00', 'userId': '55d4cde89fc3c1490e995086'}',\n",
       "    'superpixels_max': 993,\n",
       "    'superpixels_shape': (1936, 2592),})"
      ]
     },
     "execution_count": 6,
     "metadata": {},
     "output_type": "execute_result"
    }
   ],
   "source": [
    "# Retrieve an image for this study\n",
    "image = api.image(study.images[0])\n",
    "\n",
    "# Load the image data (from cache or online)\n",
    "image.load_imagedata()\n",
    "\n",
    "# And load the superpixels, and parse into coordinates map\n",
    "image.load_superpixels()\n",
    "image.map_superpixels()\n",
    "\n",
    "# print information\n",
    "image"
   ]
  },
  {
   "cell_type": "code",
   "execution_count": 7,
   "metadata": {},
   "outputs": [
    {
     "data": {
      "text/plain": [
       "isicarchive.dataset.Dataset({\n",
       "    'id': '5a2ecc5d1165975c94594294',\n",
       "    'name': 'EASY: MSK',\n",
       "    'description': 'Full image set for MSK EASY Study.',\n",
       "    'access_level': 2,\n",
       "    'license': 'CC-0',\n",
       "    'owner': 'Memorial Sloan Kettering Cancer Center',\n",
       "    'updated': '2017-04-13T20:09:01.391000+00:00',\n",
       "    'images': [ ... list with 103 items],\n",
       "    'images_for_review': [ ... list with 0 items],})"
      ]
     },
     "execution_count": 7,
     "metadata": {},
     "output_type": "execute_result"
    }
   ],
   "source": [
    "# and get some information on the dataset of the image\n",
    "dataset = api.dataset(image.dataset)\n",
    "dataset.load_images()\n",
    "dataset"
   ]
  }
 ],
 "metadata": {
  "kernelspec": {
   "display_name": "Python 3",
   "language": "python",
   "name": "python3"
  },
  "language_info": {
   "codemirror_mode": {
    "name": "ipython",
    "version": 3
   },
   "file_extension": ".py",
   "mimetype": "text/x-python",
   "name": "python",
   "nbconvert_exporter": "python",
   "pygments_lexer": "ipython3",
   "version": "3.7.4"
  }
 },
 "nbformat": 4,
 "nbformat_minor": 2
}
