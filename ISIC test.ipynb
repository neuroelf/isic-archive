{
 "cells": [
  {
   "cell_type": "markdown",
   "metadata": {},
   "source": [
    "# ISIC test notebook for isic-archive package\n",
    "\n",
    "## Installation\n",
    "To install, please use\n",
    "~~~~\n",
    "pip install git+https://github.com/neuroelf/isic-archive\n",
    "~~~~"
   ]
  },
  {
   "cell_type": "code",
   "execution_count": 1,
   "metadata": {},
   "outputs": [],
   "source": [
    "# import isicapi\n",
    "from isicarchive import isicapi"
   ]
  },
  {
   "cell_type": "code",
   "execution_count": 2,
   "metadata": {},
   "outputs": [
    {
     "name": "stdout",
     "output_type": "stream",
     "text": [
      "Password for user \"weberj3@mskcc.org\":········\n"
     ]
    }
   ],
   "source": [
    "# set username and password (to None!)\n",
    "username = 'weberj3@mskcc.org'\n",
    "password = None\n",
    "\n",
    "# instantiate API, will ask for password using getpass.getpass(...)\n",
    "api = isicapi(username, password)"
   ]
  },
  {
   "cell_type": "code",
   "execution_count": 4,
   "metadata": {},
   "outputs": [
    {
     "name": "stdout",
     "output_type": "stream",
     "text": [
      "18 studies found:\n",
      "_Test: Huge images\n",
      "Challenge Part 2: 2018 Validation / Test\n",
      "Challenge Part 2: Training\n",
      "Confocal Review\n",
      "EASY Pilot Study 3x3\n",
      "EASY Practice Study\n",
      "EASY SCP Study (30 Features)\n",
      "EASY Study - 75 Image, full featureset\n",
      "EASY_STUDY_1\n",
      "EASY_STUDY_2\n",
      "EASY_STUDY_3\n",
      "EASY_STUDY_4\n",
      "EASY_STUDY_5\n",
      "EASY_STUDY_6\n",
      "ISBI 2016: 100 Lesion Classification\n",
      "ISIC Annotation Study - All Features\n",
      "Melanoma Face/Ear Study\n",
      "Reader Study 2017\n"
     ]
    }
   ],
   "source": [
    "# retrieve the names of available studies\n",
    "studies = api.getStudies()\n",
    "print('{0:d} studies found:'.format(len(studies)))\n",
    "for study in studies.keys():\n",
    "    print(study)"
   ]
  },
  {
   "cell_type": "code",
   "execution_count": null,
   "metadata": {},
   "outputs": [],
   "source": []
  }
 ],
 "metadata": {
  "kernelspec": {
   "display_name": "Python 3",
   "language": "python",
   "name": "python3"
  },
  "language_info": {
   "codemirror_mode": {
    "name": "ipython",
    "version": 3
   },
   "file_extension": ".py",
   "mimetype": "text/x-python",
   "name": "python",
   "nbconvert_exporter": "python",
   "pygments_lexer": "ipython3",
   "version": "3.7.4"
  }
 },
 "nbformat": 4,
 "nbformat_minor": 2
}
