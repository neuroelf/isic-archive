{
 "cells": [
  {
   "cell_type": "markdown",
   "metadata": {},
   "source": [
    "# ISIC test notebook for isic-archive package\n",
    "\n",
    "## Installation\n",
    "To install, please use\n",
    "~~~~\n",
    "pip install git+https://github.com/neuroelf/isic-archive\n",
    "~~~~"
   ]
  },
  {
   "cell_type": "code",
   "execution_count": null,
   "metadata": {},
   "outputs": [],
   "source": [
    "# Make sure the latest isic-archive package is installed!\n",
    "import sys\n",
    "!{sys.executable} -m pip uninstall -y isicarchive\n",
    "!{sys.executable} -m pip install git+https://github.com/neuroelf/isic-archive"
   ]
  },
  {
   "cell_type": "code",
   "execution_count": null,
   "metadata": {},
   "outputs": [],
   "source": [
    "# Import isicapi\n",
    "from isicarchive import IsicApi"
   ]
  },
  {
   "cell_type": "code",
   "execution_count": null,
   "metadata": {},
   "outputs": [],
   "source": [
    "# Set username and password (to None!)\n",
    "username = 'weberj3@mskcc.org'\n",
    "password = None"
   ]
  },
  {
   "cell_type": "code",
   "execution_count": null,
   "metadata": {},
   "outputs": [],
   "source": [
    "# Instantiate API, will ask for password using getpass.getpass(...)\n",
    "api = IsicApi(username, password)"
   ]
  },
  {
   "cell_type": "code",
   "execution_count": null,
   "metadata": {},
   "outputs": [],
   "source": [
    "# Retrieve the names of available datasets\n",
    "datasets = api.dataset()\n",
    "print('{0:d} datasets found:'.format(len(datasets)))\n",
    "for d in datasets:\n",
    "    print(d['name'])"
   ]
  }
 ],
 "metadata": {
  "kernelspec": {
   "display_name": "Python 3",
   "language": "python",
   "name": "python3"
  },
  "language_info": {
   "codemirror_mode": {
    "name": "ipython",
    "version": 3
   },
   "file_extension": ".py",
   "mimetype": "text/x-python",
   "name": "python",
   "nbconvert_exporter": "python",
   "pygments_lexer": "ipython3",
   "version": "3.7.3"
  }
 },
 "nbformat": 4,
 "nbformat_minor": 2
}
