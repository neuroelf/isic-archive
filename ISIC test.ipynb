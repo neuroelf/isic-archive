{
 "cells": [
  {
   "cell_type": "markdown",
   "metadata": {},
   "source": [
    "# ISIC test notebook for isic-archive package\n",
    "\n",
    "## Installation\n",
    "To install, please use\n",
    "~~~~\n",
    "pip install git+https://github.com/neuroelf/isic-archive\n",
    "~~~~"
   ]
  },
  {
   "cell_type": "code",
   "execution_count": null,
   "metadata": {},
   "outputs": [],
   "source": [
    "# Make sure the latest isic-archive package is installed!\n",
    "import sys\n",
    "!{sys.executable} -m pip uninstall -y isicarchive\n",
    "#!{sys.executable} -m pip install git+https://github.com/neuroelf/isic-archive\n",
    "!{sys.executable} -m pip install C:\\\\Users\\\\weberj3\\\\Documents\\\\git\\\\isic-archive"
   ]
  },
  {
   "cell_type": "code",
   "execution_count": null,
   "metadata": {},
   "outputs": [],
   "source": [
    "# Import isicapi\n",
    "from isicarchive import IsicApi"
   ]
  },
  {
   "cell_type": "code",
   "execution_count": null,
   "metadata": {},
   "outputs": [],
   "source": [
    "# Set username and password (to None!)\n",
    "username = 'weberj3@mskcc.org'\n",
    "password = None"
   ]
  },
  {
   "cell_type": "code",
   "execution_count": null,
   "metadata": {},
   "outputs": [],
   "source": [
    "# Instantiate API, will ask for password using getpass.getpass(...)\n",
    "api = IsicApi(username, password, cache_folder='C:\\\\Users\\\\weberj3\\\\Documents\\\\ISIC')\n",
    "api"
   ]
  },
  {
   "cell_type": "code",
   "execution_count": null,
   "metadata": {},
   "outputs": [],
   "source": [
    "# Retrieve a study\n",
    "study = api.study('EASY Study - 75 Image, full featureset')\n",
    "study"
   ]
  },
  {
   "cell_type": "code",
   "execution_count": null,
   "metadata": {},
   "outputs": [],
   "source": [
    "image = api.image(study.images[0]['name'])\n",
    "image.load_data()\n",
    "image"
   ]
  }
 ],
 "metadata": {
  "kernelspec": {
   "display_name": "Python 3",
   "language": "python",
   "name": "python3"
  },
  "language_info": {
   "codemirror_mode": {
    "name": "ipython",
    "version": 3
   },
   "file_extension": ".py",
   "mimetype": "text/x-python",
   "name": "python",
   "nbconvert_exporter": "python",
   "pygments_lexer": "ipython3",
   "version": "3.7.3"
  }
 },
 "nbformat": 4,
 "nbformat_minor": 2
}
