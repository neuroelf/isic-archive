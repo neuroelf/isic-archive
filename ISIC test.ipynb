{
 "cells": [
  {
   "cell_type": "markdown",
   "metadata": {},
   "source": [
    "# ISIC test notebook for isic-archive package\n",
    "\n",
    "## Installation\n",
    "To install, please use\n",
    "~~~~\n",
    "pip install git+https://github.com/neuroelf/isic-archive\n",
    "~~~~"
   ]
  },
  {
   "cell_type": "code",
   "execution_count": 1,
   "metadata": {},
   "outputs": [
    {
     "name": "stdout",
     "output_type": "stream",
     "text": [
      "Collecting git+https://github.com/neuroelf/isic-archive\n",
      "  Cloning https://github.com/neuroelf/isic-archive to c:\\users\\weberj3\\appdata\\local\\temp\\pip-req-build-1eh7unkf\n",
      "Requirement already satisfied: imageio>=2.5.0 in c:\\users\\weberj3\\appdata\\local\\continuum\\anaconda3\\lib\\site-packages (from isicarchive==0.0.7) (2.5.0)\n",
      "Requirement already satisfied: requests>=2.22.0 in c:\\users\\weberj3\\appdata\\local\\continuum\\anaconda3\\lib\\site-packages (from isicarchive==0.0.7) (2.22.0)\n",
      "Requirement already satisfied: idna<2.9,>=2.5 in c:\\users\\weberj3\\appdata\\local\\continuum\\anaconda3\\lib\\site-packages (from requests>=2.22.0->isicarchive==0.0.7) (2.8)\n",
      "Requirement already satisfied: urllib3!=1.25.0,!=1.25.1,<1.26,>=1.21.1 in c:\\users\\weberj3\\appdata\\local\\continuum\\anaconda3\\lib\\site-packages (from requests>=2.22.0->isicarchive==0.0.7) (1.24.1)\n",
      "Requirement already satisfied: certifi>=2017.4.17 in c:\\users\\weberj3\\appdata\\local\\continuum\\anaconda3\\lib\\site-packages (from requests>=2.22.0->isicarchive==0.0.7) (2019.3.9)\n",
      "Requirement already satisfied: chardet<3.1.0,>=3.0.2 in c:\\users\\weberj3\\appdata\\local\\continuum\\anaconda3\\lib\\site-packages (from requests>=2.22.0->isicarchive==0.0.7) (3.0.4)\n",
      "Building wheels for collected packages: isicarchive\n",
      "  Building wheel for isicarchive (setup.py): started\n",
      "  Building wheel for isicarchive (setup.py): finished with status 'done'\n",
      "  Stored in directory: C:\\Users\\weberj3\\AppData\\Local\\Temp\\pip-ephem-wheel-cache-gavbvzr1\\wheels\\29\\d1\\8e\\157a2942948ba0374249e06d5f43ceced3b7eea6a5e2eb84bf\n",
      "Successfully built isicarchive\n",
      "Installing collected packages: isicarchive\n",
      "  Found existing installation: isicarchive 0.0.3\n",
      "    Can't uninstall 'isicarchive'. No files were found to uninstall.\n",
      "Successfully installed isicarchive-0.0.7\n"
     ]
    }
   ],
   "source": [
    "# Make sure the latest isic-archive package is installed!\n",
    "import sys\n",
    "!{sys.executable} -m pip install git+https://github.com/neuroelf/isic-archive"
   ]
  },
  {
   "cell_type": "code",
   "execution_count": 2,
   "metadata": {},
   "outputs": [],
   "source": [
    "# Import isicapi\n",
    "from isicarchive import IsicApi"
   ]
  },
  {
   "cell_type": "code",
   "execution_count": 3,
   "metadata": {},
   "outputs": [],
   "source": [
    "# Set username and password (to None!)\n",
    "username = 'weberj3@mskcc.org'\n",
    "password = None"
   ]
  },
  {
   "cell_type": "code",
   "execution_count": 4,
   "metadata": {},
   "outputs": [
    {
     "name": "stdout",
     "output_type": "stream",
     "text": [
      "Password for \"weberj3@mskcc.org\":········\n"
     ]
    }
   ],
   "source": [
    "# Instantiate API, will ask for password using getpass.getpass(...)\n",
    "api = IsicApi(username, password)"
   ]
  },
  {
   "cell_type": "code",
   "execution_count": 5,
   "metadata": {},
   "outputs": [
    {
     "name": "stdout",
     "output_type": "stream",
     "text": [
      "ISIC Study \"_Test: Huge images\" (id=5ad6450911659778cff6e57e, 1 images)\n"
     ]
    }
   ],
   "source": [
    "# Retrieve a study\n",
    "study = api.study('_Test: Huge images')\n",
    "print(study)"
   ]
  }
 ],
 "metadata": {
  "kernelspec": {
   "display_name": "Python 3",
   "language": "python",
   "name": "python3"
  },
  "language_info": {
   "codemirror_mode": {
    "name": "ipython",
    "version": 3
   },
   "file_extension": ".py",
   "mimetype": "text/x-python",
   "name": "python",
   "nbconvert_exporter": "python",
   "pygments_lexer": "ipython3",
   "version": "3.7.3"
  }
 },
 "nbformat": 4,
 "nbformat_minor": 2
}
