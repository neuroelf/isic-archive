{
 "cells": [
  {
   "cell_type": "markdown",
   "metadata": {},
   "source": [
    "# Downloading datasets from the ISIC Archive\n",
    "This notebook uses the ```isicarchive``` package to download images from\n",
    "the ISIC Archive, either by selecting by dataset names (this downloads\n",
    "all images of the respective datasets!), or by a previously made selection\n",
    "in form of a CSV (**alternative path** below).\n",
    "\n",
    "## Preparation\n",
    "When creating an instance of the ```IsicApi``` object, you must provide\n",
    "an existing username and password that allow access to the requested\n",
    "datasets! So, please first register a username, and ask an administrator,\n",
    "such as Nick Kurtansky, to configure the appropriate access privileges!\n",
    "\n",
    "As part of the first path, the call to ```cache_images()``` will download\n",
    "information (and meta information) about all images that are available\n",
    "(with your credentials). Next, the code selects all images from the\n",
    "```IsicApi``` object that belong to the desired set of datasets, and then\n",
    "downloads those images.\n",
    "\n",
    "## Alternative path\n",
    "The alternative path loads a CSV, and iterates over the image_id column.\n",
    "Please note that if the metadata has not yet been cached (2nd code cell),\n",
    "two HTTPS requests will be made per image--one for the metadata, one for\n",
    "the image binary data."
   ]
  },
  {
   "cell_type": "code",
   "execution_count": null,
   "metadata": {},
   "outputs": [],
   "source": [
    "# imports\n",
    "import os\n",
    "import shutil\n",
    "import sys\n",
    "\n",
    "import pandas as pd\n",
    "\n",
    "# install/upgrade isicarchive package, then import\n",
    "!{sys.executable} -m pip install --upgrade git+https://github.com/neuroelf/isicarchive\n",
    "from isicarchive.api import IsicApi\n",
    "\n",
    "# define target folder\n",
    "target_folder = 'C:\\\\Users\\\\weberj3\\\\Documents\\\\2020 Challenge\\\\fromISIC'\n",
    "\n",
    "# define sub-selection CSV\n",
    "subselection_csv = 'C:\\\\Users\\\\weberj3\\\\Desktop\\\\ISIC_CHALLENGE_SET_2020.csv'\n",
    "\n",
    "# username (please change to your own credentials!)\n",
    "username = 'weberj3@mskcc.org'\n",
    "\n",
    "# DO NOT PUT A PASSWORD into the document, it will be requested,\n",
    "# or you can store it in a privately readable ~/.netrc file!\n",
    "\n",
    "# please also change the next line of code,\n",
    "# and then create this folder, as well as the \"cache\" subfolder!\n",
    "doc_folder = 'Z:\\\\10.Imaging Informatics\\\\'\n",
    "cache_folder = doc_folder + 'ISIC' + os.sep + 'cache'\n",
    "\n",
    "# setting debug flag, this will print out every web-API operation\n",
    "debug = False\n",
    "\n",
    "# Preparation\n",
    "api = IsicApi(username, cache_folder=cache_folder, debug=debug)"
   ]
  },
  {
   "cell_type": "markdown",
   "metadata": {},
   "source": [
    "# Full dataset downloads path"
   ]
  },
  {
   "cell_type": "code",
   "execution_count": null,
   "metadata": {},
   "outputs": [],
   "source": [
    "# caching all images metadata; this can take a long time!!\n",
    "api.cache_images()"
   ]
  },
  {
   "cell_type": "code",
   "execution_count": null,
   "metadata": {},
   "outputs": [],
   "source": [
    "# list available datasets\n",
    "api.datasets"
   ]
  },
  {
   "cell_type": "code",
   "execution_count": null,
   "metadata": {},
   "outputs": [],
   "source": [
    "# datasets, please configure as {'Full name': 'folder', ...}\n",
    "datasets = {\n",
    "    'ISIC 2020 Challenge - MSKCC contribution': 'mskcc',\n",
    "}\n",
    "for d in datasets.values():\n",
    "    t = target_folder + os.sep + d\n",
    "    if not os.path.exists(t):\n",
    "        os.mkdir(t)"
   ]
  },
  {
   "cell_type": "code",
   "execution_count": null,
   "metadata": {},
   "outputs": [],
   "source": [
    "# select images from a list of datasets\n",
    "selection = api.select_images(['dataset.name', 'in', list(datasets.keys())])\n",
    "len(selection)"
   ]
  },
  {
   "cell_type": "code",
   "execution_count": null,
   "metadata": {},
   "outputs": [],
   "source": [
    "# and create a meta-dictionary as a CSV\n",
    "sk = list(selection.keys())\n",
    "md = api.write_csv(target_folder + os.sep + 'isic_challenge_2020_datasets_metadata.csv', api.selected_metadata())"
   ]
  },
  {
   "cell_type": "markdown",
   "metadata": {},
   "source": [
    "## This is the actual download, if you want only the metadata, skip this cell!"
   ]
  },
  {
   "cell_type": "code",
   "execution_count": null,
   "metadata": {},
   "outputs": [],
   "source": [
    "# iterate over list\n",
    "for idx,s in enumerate(sk):\n",
    "    if idx % 100 == 0:\n",
    "        print(idx)\n",
    "    si = api.image(s)\n",
    "    sname = si.name\n",
    "    sid = si.id\n",
    "    fname = os.sep + sname\n",
    "    tname = cache_folder + os.sep + sid[-2] + os.sep + sid[-1] + os.sep + 'image_' + sid + '_' + sname\n",
    "    if not os.path.exists(tname + '.jpg'):\n",
    "        si.load_image_data()\n",
    "        si.clear_data()\n",
    "    if os.path.exists(tname + '.jpg'):\n",
    "        shutil.copyfile(tname + '.jpg', target_folder + os.sep + datasets[si.dataset['name']] + fname + '.jpg')\n",
    "    else:\n",
    "        print(fname)"
   ]
  },
  {
   "cell_type": "markdown",
   "metadata": {},
   "source": [
    "# Alternative (CSV) path"
   ]
  },
  {
   "cell_type": "code",
   "execution_count": null,
   "metadata": {},
   "outputs": [],
   "source": [
    "# alternatively read sub-selection CSV\n",
    "selected = pd.read_csv(subselection_csv)\n",
    "sk = list(selected['image_id'])"
   ]
  },
  {
   "cell_type": "code",
   "execution_count": null,
   "metadata": {},
   "outputs": [],
   "source": [
    "# iterate over list\n",
    "for idx,s in enumerate(sk):\n",
    "    if idx % 100 == 0:\n",
    "        print(idx)\n",
    "    si = api.image(s)\n",
    "    sname = si.name\n",
    "    sid = si.id\n",
    "    fname = os.sep + sname\n",
    "    tname = cache_folder + os.sep + sid[-2] + os.sep + sid[-1] + os.sep + 'image_' + sid + '_' + sname\n",
    "    if not os.path.exists(tname + '.jpg'):\n",
    "        si.load_image_data()\n",
    "        si.clear_data()\n",
    "    if os.path.exists(tname + '.jpg'):\n",
    "        shutil.copyfile(tname + '.jpg', target_folder + os.sep + datasets[si.dataset['name']] + fname + '.jpg')\n",
    "    else:\n",
    "        print(fname)"
   ]
  }
 ],
 "metadata": {
  "kernelspec": {
   "display_name": "Python 3",
   "language": "python",
   "name": "python3"
  },
  "language_info": {
   "codemirror_mode": {
    "name": "ipython",
    "version": 3
   },
   "file_extension": ".py",
   "mimetype": "text/x-python",
   "name": "python",
   "nbconvert_exporter": "python",
   "pygments_lexer": "ipython3",
   "version": "3.7.4"
  }
 },
 "nbformat": 4,
 "nbformat_minor": 2
}
