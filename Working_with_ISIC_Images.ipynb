{
 "cells": [
  {
   "cell_type": "markdown",
   "metadata": {},
   "source": [
    "# Working with ISIC Images\n",
    "Images are at the heart of the ISIC Archive, and this notebook\n",
    "will give you a sense of what the ```isicarchive``` package\n",
    "can do in terms of retrieving images from the archive, and the\n",
    "kinds of methods you can apply to them.\n",
    "## Preparation\n",
    "We'll start again by creating an ```IsicApi``` object, which\n",
    "allows us to access the various pieces of information and images\n",
    "stored in the archive. The call to ```cache_images()``` will\n",
    "then download information (and meta information) about all\n",
    "images that are available--if you are logged in as a regular\n",
    "user, you may have access to additional images! **If you're\n",
    "using the ```cache_images()``` method, please use a different\n",
    "cache folder if you want to work with both publicly available\n",
    "and private images in separate sessions.**\n",
    "\n",
    "Next, we'll select all images from the ```IsicApi``` object that\n",
    "have a specific diagnosis, and then display those images."
   ]
  },
  {
   "cell_type": "code",
   "execution_count": null,
   "metadata": {},
   "outputs": [],
   "source": [
    "# imports\n",
    "import os\n",
    "from isicarchive.api import IsicApi\n",
    "\n",
    "# Settings (please adapt to your needs!)\n",
    "username = 'weberj3@mskcc.org'\n",
    "\n",
    "# DO NOT PUT A PASSWORD into the document, it will be requested,\n",
    "# or you can store it in a privately readable ~/.netrc file!\n",
    "\n",
    "doc_folder = 'Z:\\\\10.Imaging Informatics\\\\'\n",
    "# doc_folder = '/Data/MSKCC/'\n",
    "cache_folder = doc_folder + 'ISIC' + os.sep + 'cache'\n",
    "\n",
    "# setting debug flag, this will print out every web-API operation\n",
    "debug = False\n",
    "\n",
    "# Preparation\n",
    "api = IsicApi(username, cache_folder=cache_folder, debug=debug)"
   ]
  },
  {
   "cell_type": "code",
   "execution_count": null,
   "metadata": {},
   "outputs": [],
   "source": [
    "# caching images and segmentations; this can take a long time!!\n",
    "# so you may want to skip this cell for now...\n",
    "api.cache_images()\n",
    "api.cache_segmentations()"
   ]
  },
  {
   "cell_type": "code",
   "execution_count": null,
   "metadata": {},
   "outputs": [],
   "source": [
    "# list available studies (depends on user authentication!)\n",
    "api.studies"
   ]
  },
  {
   "cell_type": "code",
   "execution_count": null,
   "metadata": {},
   "outputs": [],
   "source": [
    "# show the number of images in each study\n",
    "for (study_name, study_id) in api.studies.items():\n",
    "    print('Study \"' + study_name + '\" has ' + str(len(api._studies[study_id]['images'])) + ' images.')"
   ]
  },
  {
   "cell_type": "code",
   "execution_count": null,
   "metadata": {},
   "outputs": [],
   "source": [
    "# load a study,\n",
    "# add the meta-data file (exemplar feature in CSV) as exemplar meta_data,\n",
    "# and cache the images associated with it\n",
    "study_folder = doc_folder + 'EASY' + os.sep + 'PILOT' + os.sep\n",
    "if not os.path.exists(study_folder):\n",
    "    os.mkdir(study_folder)\n",
    "study = api.study('ISIC Annotation Study - All Features', exemplar=study_folder + 'pilot.csv')\n",
    "study.cache_image_data()"
   ]
  },
  {
   "cell_type": "code",
   "execution_count": null,
   "metadata": {},
   "outputs": [],
   "source": [
    "# alternatively, manually load additional meta data later\n",
    "study.load_meta_data(study_folder + 'study1.csv', dict_key='ISIC_ID',\n",
    "    list_to_dict=True, meta_key='exemplar', extract_key='feature')"
   ]
  },
  {
   "cell_type": "code",
   "execution_count": null,
   "metadata": {},
   "outputs": [],
   "source": [
    "# load the annotation data\n",
    "study.load_annotations()"
   ]
  },
  {
   "cell_type": "code",
   "execution_count": null,
   "metadata": {},
   "outputs": [],
   "source": [
    "# select only from users that completed the study\n",
    "num_images = len(study.images)\n",
    "users = [u for (u,c) in study.user_completion.items() if c==num_images]\n",
    "study.select_annotations(users=users)\n",
    "user_names = {u['_id']: u['name'].replace('User ', '') for u in study.users}\n",
    "\n",
    "# number of all annotations (across users, images, features)\n",
    "total_features_annotations = sum(\n",
    "    [len(a.features) for a in study.annotation_selection.values()])\n",
    "\n",
    "# determine which features were used\n",
    "selected_features = dict()\n",
    "for annotation in study.annotation_selection.values():\n",
    "    for feature in annotation.features:\n",
    "        selected_features[feature] = True\n",
    "\n",
    "# and create necessary lists\n",
    "full_features_list = sorted(list([f['id'] for f in study.features]))\n",
    "features_list = sorted(selected_features.keys())\n",
    "num_features = len(features_list)\n",
    "features_idx = dict()\n",
    "for (feat_idx, feat_name) in enumerate(features_list):\n",
    "    features_idx[feat_name] = feat_idx\n",
    "category_list = sorted(list(set([v.split(' : ')[0] for v in features_list])))\n",
    "num_categories = len(category_list)\n",
    "category_idx = dict()\n",
    "for (cat_idx, cat_name) in enumerate(category_list):\n",
    "    category_idx[cat_name] = cat_idx"
   ]
  },
  {
   "cell_type": "code",
   "execution_count": null,
   "metadata": {},
   "outputs": [],
   "source": [
    "# get annotation list\n",
    "study.select_annotations(images=['ISIC_0016094'], users=users)\n",
    "annotation_list = list(study.annotation_selection.values())\n",
    "annotation_list[0].compute_areas()\n",
    "len(annotation_list[0].features['Lines : Streaks']['lst'])"
   ]
  },
  {
   "cell_type": "code",
   "execution_count": null,
   "metadata": {},
   "outputs": [],
   "source": [
    "# create heatmap with default settings\n",
    "(heatmap, stats) = study.image_heatmap('ISIC_0016094',\n",
    "    mix_colors=False,underlay_gray=0.8,users=['578e64b09fc3c10d6fd12e4f'])\n",
    "api.display_image(heatmap)"
   ]
  },
  {
   "cell_type": "code",
   "execution_count": null,
   "metadata": {},
   "outputs": [],
   "source": [
    "# display stats on the annotation features\n",
    "stats['featcols']"
   ]
  },
  {
   "cell_type": "code",
   "execution_count": null,
   "metadata": {},
   "outputs": [],
   "source": [
    "# load a dataset\n",
    "dataset = api.dataset('HAM10000')\n",
    "dataset"
   ]
  },
  {
   "cell_type": "code",
   "execution_count": null,
   "metadata": {},
   "outputs": [],
   "source": [
    "# load image information into the dataset\n",
    "dataset.load_images()"
   ]
  },
  {
   "cell_type": "code",
   "execution_count": null,
   "metadata": {},
   "outputs": [],
   "source": [
    "# select images from a dataset\n",
    "selection = api.select_images(['dataset.name', '==', 'Lymphoma_250_bt'])\n",
    "\n",
    "# and create a meta-dictionary as a CSV\n",
    "md = api.write_csv(doc_folder + 'Lymphoma_250_bt_metadata.csv', api.selected_metadata())"
   ]
  },
  {
   "cell_type": "code",
   "execution_count": null,
   "metadata": {},
   "outputs": [],
   "source": [
    "from isicarchive import imfunc\n",
    "from matplotlib import pyplot as plt\n",
    "import numpy\n",
    "# load image's superpixel information and map array\n",
    "image = api.image('ISIC_0065178')\n",
    "image.load_image_data()\n",
    "gray_d = imfunc.image_gray(image.data)\n",
    "gray_l = imfunc.image_gray(image.data, conv_type='l')\n",
    "gray_a = imfunc.image_gray(image.data, conv_type='a')\n",
    "plt.figure(figsize=(16,16))\n",
    "plt.imshow(numpy.concatenate((numpy.concatenate((image.data, gray_a), axis=1), numpy.concatenate((gray_d, gray_l), axis=1)), axis=0))\n",
    "plt.show()"
   ]
  },
  {
   "cell_type": "code",
   "execution_count": null,
   "metadata": {},
   "outputs": [],
   "source": [
    "api.write_image(ci, 'C:\\\\Users\\\\weberj3\\\\Documents\\\\ISIC_0016102_SP0476_n1.png')"
   ]
  },
  {
   "cell_type": "code",
   "execution_count": null,
   "metadata": {},
   "outputs": [],
   "source": [
    "import numpy\n",
    "from isicarchive.sampler import Sampler\n",
    "s = Sampler()\n",
    "numpix = ci.shape[0] * ci.shape[1]\n",
    "cim = numpy.zeros(numpix).reshape((ci.shape[0], ci.shape[1],))\n",
    "cim[ci.shape[0]//2, ci.shape[1]//2] = 1\n",
    "cims = s.sample_grid(cim, 1.0, 'gauss84')\n",
    "cims = cims / numpy.amax(cims)\n",
    "cis = imfunc.image_smooth_fft(ci, 84.0)\n",
    "cimix = imfunc.image_mix(cis, ci, cims)\n",
    "plt.figure(figsize=(10,10))\n",
    "plt.imshow(cis)\n",
    "plt.show()"
   ]
  },
  {
   "cell_type": "code",
   "execution_count": null,
   "metadata": {},
   "outputs": [],
   "source": [
    "cim.shape"
   ]
  },
  {
   "cell_type": "code",
   "execution_count": null,
   "metadata": {},
   "outputs": [],
   "source": [
    "# create superpixel outlines as SVG paths\n",
    "superpixel_colors = api.superpixel_colors()\n",
    "outline_svg = image.superpixel_outlines(\n",
    "    out_format='osvg', path_attribs=superpixel_colors)\n",
    "outlines = image.superpixel_outlines(\n",
    "    out_format='osvgp', path_attribs=superpixel_colors)\n",
    "\n",
    "# display one path\n",
    "outlines[0]"
   ]
  },
  {
   "cell_type": "code",
   "execution_count": null,
   "metadata": {},
   "outputs": [],
   "source": [
    "# retrieve segmentation (supports image name, image ID (via additional request), and segmentation ID)\n",
    "image = api.image('ISIC_0016094')\n",
    "segmentation = api.segmentation('ISIC_0016094')"
   ]
  },
  {
   "cell_type": "code",
   "execution_count": null,
   "metadata": {},
   "outputs": [],
   "source": [
    "# load data\n",
    "image.load_image_data()\n",
    "image.load_superpixels()\n",
    "image.map_superpixels()\n",
    "segmentation.load_mask_data()\n",
    "print(str(segmentation.area) + ' pixels selected (' + str(segmentation.area_pct) + '%)')"
   ]
  },
  {
   "cell_type": "code",
   "execution_count": null,
   "metadata": {},
   "outputs": [],
   "source": [
    "l = segmentation.superpixels_in_mask()\n",
    "print(l)"
   ]
  },
  {
   "cell_type": "code",
   "execution_count": null,
   "metadata": {},
   "outputs": [],
   "source": [
    "# get superpixels in image mask\n",
    "sp_weights = segmentation.superpixels_in_mask()\n",
    "sp_half_in = segmentation.superpixels_in_mask(0.5)\n",
    "sp_full_in = segmentation.superpixels_in_mask(1.0)\n",
    "\n",
    "# print sum\n",
    "print('Number of superpixels: ' + str(len(sp_weights)))\n",
    "print('Average coverage: ' + str(sum(sp_weights) / len(sp_weights)))\n",
    "print('Superpixels at least half in mask: ' + str(len(sp_half_in)))\n",
    "print('Superpixels fully in mask: ' + str(len(sp_full_in)))"
   ]
  },
  {
   "cell_type": "code",
   "execution_count": null,
   "metadata": {},
   "outputs": [],
   "source": [
    "a[0].overlap('Vessels : Arborizing', a[1], 'Vessels : Arborizing', 'smcc')"
   ]
  },
  {
   "cell_type": "code",
   "execution_count": null,
   "metadata": {},
   "outputs": [],
   "source": [
    "m0 = a[0].masks['Vessels : Arborizing']\n",
    "m1 = a[1].masks['Vessels : Arborizing']\n",
    "import numpy\n",
    "m0s = m0.shape\n",
    "m0 = m0.reshape((m0s[0], m0s[1], 1,))\n",
    "m1 = m1.reshape((m0s[0], m0s[1], 1,))\n",
    "from isicarchive import imfunc\n",
    "m0 = imfunc.image_smooth_fft(m0, 0.05)\n",
    "m1 = imfunc.image_smooth_fft(m1, 0.05)\n",
    "m2 = numpy.minimum(m0,m1)\n",
    "m = numpy.concatenate((m0-(0.5*m2).astype(numpy.uint8),m1-(0.5*m2).astype(numpy.uint8),m2), axis=2)\n",
    "imfunc.image_corr(m0,m1)"
   ]
  },
  {
   "cell_type": "code",
   "execution_count": null,
   "metadata": {},
   "outputs": [],
   "source": [
    "selection = api.select_images([['dataset.name', '==', dataset.name],['meta.clinical.benign_malignant','==','benign']])\n",
    "len(selection)"
   ]
  },
  {
   "cell_type": "code",
   "execution_count": null,
   "metadata": {},
   "outputs": [],
   "source": [
    "simages = list(selection.keys())"
   ]
  },
  {
   "cell_type": "code",
   "execution_count": null,
   "metadata": {},
   "outputs": [],
   "source": [
    "from isicarchive import func\n",
    "simages_x = func.getxattr(list(selection.values()), '[].meta.acquisition.pixelsX')\n",
    "simages_y = func.getxattr(list(selection.values()), '[].meta.acquisition.pixelsY')"
   ]
  },
  {
   "cell_type": "code",
   "execution_count": null,
   "metadata": {},
   "outputs": [],
   "source": [
    "from isicarchive import imfunc\n",
    "import numpy\n",
    "mi = numpy.zeros((4500,6000,3), dtype=numpy.uint8)"
   ]
  },
  {
   "cell_type": "code",
   "execution_count": null,
   "metadata": {},
   "outputs": [],
   "source": [
    "import json\n",
    "from isicarchive import api as iapi\n",
    "\n",
    "# load a dataset\n",
    "dataset = api.dataset('HAM10000')\n",
    "dataset.load_images()\n",
    "image = api.image(dataset.images[0])\n",
    "image"
   ]
  },
  {
   "cell_type": "code",
   "execution_count": null,
   "metadata": {},
   "outputs": [],
   "source": [
    "from mpl_toolkits.mplot3d import Axes3D  # noqa: F401 unused import\n",
    "import mpl_toolkits.mplot3d.proj3d as p3d\n",
    "\n",
    "import matplotlib.pyplot as plt\n",
    "import numpy as np\n",
    "\n",
    "# Fixing random state for reproducibility\n",
    "np.random.seed(19680801)\n",
    "\n",
    "\n",
    "fig = plt.figure()\n",
    "ax = fig.add_subplot(111, projection='3d')\n",
    "x, y = np.random.rand(2, 100) * 4\n",
    "hist, xedges, yedges = np.histogram2d(x, y, bins=4, range=[[0, 4], [0, 4]])\n",
    "\n",
    "# Construct arrays for the anchor positions of the 16 bars.\n",
    "xpos, ypos = np.meshgrid(xedges[:-1], yedges[:-1], indexing=\"ij\")\n",
    "xpos = xpos.ravel()\n",
    "ypos = ypos.ravel()\n",
    "zpos = 0\n",
    "\n",
    "# Construct arrays with the dimensions for the 16 bars.\n",
    "dx = dy = 0.99 * np.ones_like(zpos)\n",
    "dz = hist.ravel()\n",
    "\n",
    "ax.bar3d(xpos, ypos, zpos, dx, dy, dz, zsort='average')\n",
    "\n",
    "plt.show()"
   ]
  }
 ],
 "metadata": {
  "kernelspec": {
   "display_name": "Python 3",
   "language": "python",
   "name": "python3"
  },
  "language_info": {
   "codemirror_mode": {
    "name": "ipython",
    "version": 3
   },
   "file_extension": ".py",
   "mimetype": "text/x-python",
   "name": "python",
   "nbconvert_exporter": "python",
   "pygments_lexer": "ipython3",
   "version": "3.7.4"
  }
 },
 "nbformat": 4,
 "nbformat_minor": 2
}
