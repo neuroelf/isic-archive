{
 "cells": [
  {
   "cell_type": "markdown",
   "metadata": {},
   "source": [
    "# Working with ISIC Images\n",
    "Images are at the heart of the ISIC Archive, and this notebook\n",
    "will give you a sense of what the ```isicarchive``` package\n",
    "can do in terms of retrieving images from the archive, and the\n",
    "kinds of methods you can apply to them.\n",
    "## Preparation\n",
    "We'll start again by creating an ```IsicApi``` object, which\n",
    "allows us to access the various pieces of information and images\n",
    "stored in the archive. The call to ```cache_images()``` will\n",
    "then download information (and meta information) about all\n",
    "images that are available--if you are logged in as a regular\n",
    "user, you may have access to additional images! **If you're\n",
    "using the ```cache_images()``` method, please use a different\n",
    "cache folder if you want to work with both publicly available\n",
    "and private images in separate sessions.**\n",
    "\n",
    "Next, we'll select all images from the ```IsicApi``` object that\n",
    "have a specific diagnosis, and then display those images."
   ]
  },
  {
   "cell_type": "code",
   "execution_count": null,
   "metadata": {},
   "outputs": [],
   "source": [
    "# Settings (please adapt to your needs!)\n",
    "username = None\n",
    "password = None\n",
    "# cache_folder = 'C:\\\\Users\\\\weberj3\\\\Documents\\\\ISIC'\n",
    "cache_folder = '/Data/MSKCC/isicarchive/cache'\n",
    "\n",
    "# Preparation\n",
    "from isicarchive import IsicApi, func\n",
    "api = IsicApi(username, password, cache_folder=cache_folder)"
   ]
  },
  {
   "cell_type": "code",
   "execution_count": null,
   "metadata": {},
   "outputs": [],
   "source": [
    "# caching images and segmentations; this can take a long time!!\n",
    "# so you may want to skip this cell for now...\n",
    "api.cache_images()\n",
    "api.cache_segmentations()"
   ]
  },
  {
   "cell_type": "code",
   "execution_count": null,
   "metadata": {},
   "outputs": [],
   "source": [
    "# list studies\n",
    "api.studies"
   ]
  },
  {
   "cell_type": "code",
   "execution_count": null,
   "metadata": {},
   "outputs": [],
   "source": [
    "# load a study and cache the images associated with it\n",
    "study = api.study('ISIC Annotation Study - All Features')\n",
    "study.cache_imagedata()"
   ]
  },
  {
   "cell_type": "code",
   "execution_count": null,
   "metadata": {},
   "outputs": [],
   "source": [
    "# load image and data\n",
    "image = api.image(study.images[0])\n",
    "image.load_imagedata()\n",
    "image.load_superpixels()\n",
    "image.map_superpixels()"
   ]
  },
  {
   "cell_type": "code",
   "execution_count": null,
   "metadata": {},
   "outputs": [],
   "source": [
    "# create superpixel outlines as SVG paths\n",
    "superpixel_colors = func.superpixel_colors()\n",
    "outline_svg = func.superpixel_outlines(\n",
    "    image.superpixels['map'],\n",
    "    image.superpixels['idx'].shape,\n",
    "    out_format='osvg',\n",
    "    path_attribs=superpixel_colors)\n",
    "outlines = func.superpixel_outlines(\n",
    "    image.superpixels['map'],\n",
    "    image.superpixels['idx'].shape,\n",
    "    out_format='osvgp',\n",
    "    path_attribs=superpixel_colors)\n",
    "\n",
    "# display one path\n",
    "outlines[0]"
   ]
  },
  {
   "cell_type": "code",
   "execution_count": null,
   "metadata": {},
   "outputs": [],
   "source": [
    "# write into an SVG file\n",
    "with open('/tmp/test.svg', 'w') as file:\n",
    "    file.write(outline_svg)"
   ]
  },
  {
   "cell_type": "code",
   "execution_count": null,
   "metadata": {},
   "outputs": [],
   "source": [
    "# demostrate how to color a single superpixel\n",
    "image_data = image.data\n",
    "image_shape = image_data.shape\n",
    "image_data.shape = (image_shape[0] * image_shape[1], -1)\n",
    "map = image.superpixels['map']\n",
    "superpixel_index = 472\n",
    "pixel_count = map[superpixel_index, -1]\n",
    "superpixel_pixels = map[superpixel_index, 0:pixel_count]\n",
    "image_data[superpixel_pixels, 0] = 255\n",
    "image_data[superpixel_pixels, 1] = 0\n",
    "image_data[superpixel_pixels, 2] = 0\n",
    "image_data.shape = image_shape\n",
    "\n",
    "import matplotlib.pyplot as plt\n",
    "%matplotlib inline\n",
    "plt.imshow(image_data)\n",
    "plt.show()"
   ]
  }
 ],
 "metadata": {
  "kernelspec": {
   "display_name": "Python 3",
   "language": "python",
   "name": "python3"
  },
  "language_info": {
   "codemirror_mode": {
    "name": "ipython",
    "version": 3
   },
   "file_extension": ".py",
   "mimetype": "text/x-python",
   "name": "python",
   "nbconvert_exporter": "python",
   "pygments_lexer": "ipython3",
   "version": "3.7.4"
  }
 },
 "nbformat": 4,
 "nbformat_minor": 2
}
