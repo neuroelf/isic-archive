{
 "cells": [
  {
   "cell_type": "markdown",
   "metadata": {},
   "source": [
    "# Working with ISIC Images\n",
    "Images are at the heart of the ISIC Archive, and this notebook\n",
    "will give you a sense of what the ```isicarchive``` package\n",
    "can do in terms of retrieving images from the archive, and the\n",
    "kinds of methods you can apply to them.\n",
    "## Preparation\n",
    "We'll start again by creating an ```IsicApi``` object, which\n",
    "allows us to access the various pieces of information and images\n",
    "stored in the archive. The call to ```cache_images()``` will\n",
    "then download information (and meta information) about all\n",
    "images that are available--if you are logged in as a regular\n",
    "user, you may have access to additional images! **If you're\n",
    "using the ```cache_images()``` method, please use a different\n",
    "cache folder if you want to work with both publicly available\n",
    "and private images in separate sessions.**\n",
    "\n",
    "Next, we'll select all images from the ```IsicApi``` object that\n",
    "have a specific diagnosis, and then display those images."
   ]
  },
  {
   "cell_type": "code",
   "execution_count": null,
   "metadata": {},
   "outputs": [],
   "source": [
    "# Settings (please adapt to your needs!)\n",
    "cache_folder = 'C:\\\\Users\\\\weberj3\\\\Documents\\\\ISIC'\n",
    "\n",
    "# Preparation\n",
    "from isicarchive import IsicApi, func\n",
    "api = IsicApi(cache_folder=cache_folder)\n",
    "api.cache_images()"
   ]
  },
  {
   "cell_type": "code",
   "execution_count": null,
   "metadata": {},
   "outputs": [],
   "source": [
    "import imageio\n",
    "image = imageio.imread('C:\\\\Users\\\\weberj3\\\\Documents\\\\ISIC\\\\0\\\\image_59e509e4d831136981ee67a0_ISIC_0021137.jpg')"
   ]
  },
  {
   "cell_type": "code",
   "execution_count": null,
   "metadata": {},
   "outputs": [],
   "source": [
    "import matplotlib.pyplot as plt\n",
    "import matplotlib.image as mpimg\n",
    "imobj = plt.imshow(image)\n",
    "imobj.axes.set_axis_off()\n",
    "plt.show()\n",
    "print(True)"
   ]
  },
  {
   "cell_type": "code",
   "execution_count": null,
   "metadata": {},
   "outputs": [],
   "source": [
    "image = api.image('ISIC_0000000')\n",
    "image.load_imagedata()\n",
    "image.load_superpixels()\n",
    "image.map_superpixels()\n",
    "image_data = image.data\n",
    "image_shape = image_data.shape\n",
    "image_data.shape = (image_shape[0] * image_shape[1], -1)\n",
    "map = image.superpixels['map']\n",
    "superpixel_index = 472\n",
    "pixel_count = map[superpixel_index, -1]\n",
    "superpixel_pixels = map[superpixel_index, 0:pixel_count]\n",
    "image_data[superpixel_pixels, 0] = 255\n",
    "image_data[superpixel_pixels, 1] = 0\n",
    "image_data[superpixel_pixels, 2] = 0\n",
    "image_data.shape = image_shape\n",
    "\n",
    "import matplotlib.pyplot as plt\n",
    "plt.imshow(image_data)\n",
    "plt.show()"
   ]
  },
  {
   "cell_type": "code",
   "execution_count": null,
   "metadata": {},
   "outputs": [],
   "source": [
    "import matplotlib.pyplot as plt\n",
    "plt.imshow(image_data)\n",
    "plt.show()"
   ]
  },
  {
   "cell_type": "code",
   "execution_count": null,
   "metadata": {},
   "outputs": [],
   "source": [
    "from isicarchive import func\n",
    "import imageio\n",
    "import numpy\n",
    "spimg = imageio.imread('C:\\\\Users\\\\weberj3\\\\Documents\\\\ISIC\\\\0\\\\spimg_57eea3d99fc3c12a89bb5e00.png')\n",
    "spmap = func.superpixel_map_rgb(spimg)\n",
    "image = func.color_superpixels(spimg.shape, [x for x in range(0,900)], spmap, [255,0,0], 1.0, [v for v in numpy.arange(0.0, 0.9,0.001)])\n",
    "func.display_image(image)"
   ]
  }
 ],
 "metadata": {
  "kernelspec": {
   "display_name": "Python 3",
   "language": "python",
   "name": "python3"
  },
  "language_info": {
   "codemirror_mode": {
    "name": "ipython",
    "version": 3
   },
   "file_extension": ".py",
   "mimetype": "text/x-python",
   "name": "python",
   "nbconvert_exporter": "python",
   "pygments_lexer": "ipython3",
   "version": "3.7.4"
  }
 },
 "nbformat": 4,
 "nbformat_minor": 2
}
