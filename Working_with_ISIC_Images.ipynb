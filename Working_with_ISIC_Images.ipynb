{
 "cells": [
  {
   "cell_type": "markdown",
   "metadata": {},
   "source": [
    "# Working with ISIC Images\n",
    "Images are at the heart of the ISIC Archive, and this notebook\n",
    "will give you a sense of what the ```isicarchive``` package\n",
    "can do in terms of retrieving images from the archive, and the\n",
    "kinds of methods you can apply to them.\n",
    "## Preparation\n",
    "We'll start again by creating an ```IsicApi``` object, which\n",
    "allows us to access the various pieces of information and images\n",
    "stored in the archive. The call to ```cache_images()``` will\n",
    "then download information (and meta information) about all\n",
    "images that are available--if you are logged in as a regular\n",
    "user, you may have access to additional images! **If you're\n",
    "using the ```cache_images()``` method, please use a different\n",
    "cache folder if you want to work with both publicly available\n",
    "and private images in separate sessions.**\n",
    "\n",
    "Next, we'll select all images from the ```IsicApi``` object that\n",
    "have a specific diagnosis, and then display those images."
   ]
  },
  {
   "cell_type": "code",
   "execution_count": null,
   "metadata": {},
   "outputs": [],
   "source": [
    "# Settings (please adapt to your needs!)\n",
    "username = 'weberj3@mskcc.org'\n",
    "\n",
    "# DO NOT PUT A PASSWORD into the document, it will be requested,\n",
    "# or you can store it in a privately readable ~/.netrc file!\n",
    "\n",
    "cache_folder = 'C:\\\\Users\\\\weberj3\\\\Documents\\\\ISIC'\n",
    "# cache_folder = '/Data/MSKCC/isicarchive/cache'\n",
    "\n",
    "# setting debug flag, this will print out every web-API operation\n",
    "debug = False\n",
    "\n",
    "# Preparation\n",
    "from isicarchive.api import IsicApi\n",
    "from isicarchive import func, imfunc\n",
    "api = IsicApi(username, cache_folder=cache_folder, debug=debug)"
   ]
  },
  {
   "cell_type": "code",
   "execution_count": null,
   "metadata": {},
   "outputs": [],
   "source": [
    "# caching images and segmentations; this can take a long time!!\n",
    "# so you may want to skip this cell for now...\n",
    "api.cache_images()\n",
    "api.cache_segmentations()"
   ]
  },
  {
   "cell_type": "code",
   "execution_count": null,
   "metadata": {},
   "outputs": [],
   "source": [
    "# list available studies (depends on user authentication!)\n",
    "api.studies"
   ]
  },
  {
   "cell_type": "code",
   "execution_count": null,
   "metadata": {},
   "outputs": [],
   "source": [
    "# load a study and cache the images associated with it\n",
    "study = api.study('ISIC Annotation Study - All Features')"
   ]
  },
  {
   "cell_type": "code",
   "execution_count": null,
   "metadata": {},
   "outputs": [],
   "source": [
    "# select images from this study\n",
    "selection = api.select_images(['meta.clinical.melanocytic', '==', True], study.images)"
   ]
  },
  {
   "cell_type": "code",
   "execution_count": null,
   "metadata": {},
   "outputs": [],
   "source": [
    "# load image and display image data\n",
    "image = api.image(study.images[0])\n",
    "image.load_image_data()\n",
    "image.show_in_notebook()"
   ]
  },
  {
   "cell_type": "code",
   "execution_count": null,
   "metadata": {},
   "outputs": [],
   "source": [
    "# load image's superpixel information and map array\n",
    "image.load_superpixels()\n",
    "image.map_superpixels()"
   ]
  },
  {
   "cell_type": "code",
   "execution_count": null,
   "metadata": {},
   "outputs": [],
   "source": [
    "# create superpixel outlines as SVG paths\n",
    "superpixel_colors = func.superpixel_colors()\n",
    "outline_svg = imfunc.superpixel_outlines(\n",
    "    image.superpixels['map'],\n",
    "    image.superpixels['idx'].shape,\n",
    "    out_format='osvg',\n",
    "    path_attribs=superpixel_colors)\n",
    "outlines = imfunc.superpixel_outlines(\n",
    "    image.superpixels['map'],\n",
    "    image.superpixels['idx'].shape,\n",
    "    out_format='osvgp',\n",
    "    path_attribs=superpixel_colors)\n",
    "\n",
    "# display one path\n",
    "outlines[0]"
   ]
  },
  {
   "cell_type": "code",
   "execution_count": null,
   "metadata": {},
   "outputs": [],
   "source": [
    "# create heatmap with default settings\n",
    "(heatmap, stats) = study.image_heatmap(study.images[0],mix_colors=False,underlay_gray=0.5)\n",
    "api.display_image(heatmap)"
   ]
  },
  {
   "cell_type": "code",
   "execution_count": null,
   "metadata": {},
   "outputs": [],
   "source": [
    "# display stats on the annotation features\n",
    "stats['featnum']"
   ]
  },
  {
   "cell_type": "code",
   "execution_count": null,
   "metadata": {},
   "outputs": [],
   "source": [
    "# retrieve segmentation (supports image name, image ID (via additional request), and segmentation ID)\n",
    "segmentation = api.segmentation('ISIC_0000000')"
   ]
  },
  {
   "cell_type": "code",
   "execution_count": null,
   "metadata": {},
   "outputs": [],
   "source": [
    "# get superpixels in image mask\n",
    "sp_weights = segmentation.superpixels_in_mask()\n",
    "sp_half_in = segmentation.superpixels_in_mask(0.5)\n",
    "sp_full_in = segmentation.superpixels_in_mask(1.0)\n",
    "\n",
    "# print sum\n",
    "print('Number of superpixels: ' + str(len(sp_weights)))\n",
    "print('Average coverage: ' + str(sum(sp_weights) / len(sp_weights)))\n",
    "print('Superpixels at least half in mask: ' + str(len(sp_half_in)))\n",
    "print('Superpixels fully in mask: ' + str(len(sp_full_in)))"
   ]
  }
 ],
 "metadata": {
  "kernelspec": {
   "display_name": "Python 3",
   "language": "python",
   "name": "python3"
  },
  "language_info": {
   "codemirror_mode": {
    "name": "ipython",
    "version": 3
   },
   "file_extension": ".py",
   "mimetype": "text/x-python",
   "name": "python",
   "nbconvert_exporter": "python",
   "pygments_lexer": "ipython3",
   "version": "3.7.4"
  }
 },
 "nbformat": 4,
 "nbformat_minor": 2
}
