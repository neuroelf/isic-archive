{
 "cells": [
  {
   "cell_type": "markdown",
   "metadata": {},
   "source": [
    "# Working with ISIC Images\n",
    "Images are at the heart of the ISIC Archive, and this notebook\n",
    "will give you a sense of what the ```isicarchive``` package\n",
    "can do in terms of retrieving images from the archive, and the\n",
    "kinds of methods you can apply to them.\n",
    "## Preparation\n",
    "We'll start again by creating an ```IsicApi``` object, which\n",
    "allows us to access the various pieces of information and images\n",
    "stored in the archive. The call to ```cache_images()``` will\n",
    "then download information (and meta information) about all\n",
    "images that are available--if you are logged in as a regular\n",
    "user, you may have access to additional images! **If you're\n",
    "using the ```cache_images()``` method, please use a different\n",
    "cache folder if you want to work with both publicly available\n",
    "and private images in separate sessions.**\n",
    "\n",
    "Next, we'll select all images from the ```IsicApi``` object that\n",
    "have a specific diagnosis, and then display those images."
   ]
  },
  {
   "cell_type": "code",
   "execution_count": null,
   "metadata": {},
   "outputs": [],
   "source": [
    "# imports\n",
    "import os\n",
    "from isicarchive.api import IsicApi\n",
    "\n",
    "# Settings (please adapt to your needs!)\n",
    "username = 'weberj3@mskcc.org'\n",
    "\n",
    "# DO NOT PUT A PASSWORD into the document, it will be requested,\n",
    "# or you can store it in a privately readable ~/.netrc file!\n",
    "\n",
    "doc_folder = 'Z:\\\\10.Imaging Informatics\\\\'\n",
    "# doc_folder = '/Data/MSKCC/'\n",
    "cache_folder = doc_folder + 'ISIC' + os.sep + 'cache'\n",
    "\n",
    "# setting debug flag, this will print out every web-API operation\n",
    "debug = True\n",
    "\n",
    "# Preparation\n",
    "api = IsicApi(username, cache_folder=cache_folder, debug=debug)"
   ]
  },
  {
   "cell_type": "code",
   "execution_count": null,
   "metadata": {},
   "outputs": [],
   "source": [
    "# caching images and segmentations; this can take a long time!!\n",
    "# so you may want to skip this cell for now...\n",
    "api.cache_images()\n",
    "api.cache_segmentations()"
   ]
  },
  {
   "cell_type": "code",
   "execution_count": null,
   "metadata": {},
   "outputs": [],
   "source": [
    "# list available studies (depends on user authentication!)\n",
    "api.studies"
   ]
  },
  {
   "cell_type": "code",
   "execution_count": null,
   "metadata": {},
   "outputs": [],
   "source": [
    "# show the number of images in each study\n",
    "for (study_name, study_id) in api.studies.items():\n",
    "    print('Study \"' + study_name + '\" has ' + str(len(api._studies[study_id]['images'])) + ' images.')"
   ]
  },
  {
   "cell_type": "code",
   "execution_count": null,
   "metadata": {},
   "outputs": [],
   "source": [
    "# load a study,\n",
    "# add the meta-data file (exemplar feature in CSV) as exemplar meta_data,\n",
    "# and cache the images associated with it\n",
    "study_folder = doc_folder + 'EASY' + os.sep + 'PILOT' + os.sep\n",
    "if not os.path.exists(study_folder):\n",
    "    os.mkdir(study_folder)\n",
    "study = api.study('ISIC Annotation Study - All Features', exemplar=study_folder + 'pilot.csv')\n",
    "study.cache_image_data()"
   ]
  },
  {
   "cell_type": "code",
   "execution_count": null,
   "metadata": {},
   "outputs": [],
   "source": [
    "# alternatively, manually load additional meta data later\n",
    "study.load_meta_data(study_folder + 'study1.csv', dict_key='ISIC_ID',\n",
    "    list_to_dict=True, meta_key='exemplar', extract_key='feature')"
   ]
  },
  {
   "cell_type": "code",
   "execution_count": null,
   "metadata": {},
   "outputs": [],
   "source": [
    "# load the annotation data\n",
    "study.load_annotations()"
   ]
  },
  {
   "cell_type": "code",
   "execution_count": null,
   "metadata": {},
   "outputs": [],
   "source": [
    "# create heatmap with default settings\n",
    "(heatmap, stats) = study.image_heatmap('ISIC_0016094',\n",
    "    features='~lines',\n",
    "    mix_colors=False,underlay_gray=0.8)\n",
    "api.display_image(heatmap)"
   ]
  },
  {
   "cell_type": "code",
   "execution_count": null,
   "metadata": {},
   "outputs": [],
   "source": [
    "# display stats on the annotation features\n",
    "stats['featcols']"
   ]
  },
  {
   "cell_type": "code",
   "execution_count": null,
   "metadata": {},
   "outputs": [],
   "source": [
    "# load a dataset\n",
    "dataset = api.dataset('HAM10000')\n",
    "dataset"
   ]
  },
  {
   "cell_type": "code",
   "execution_count": null,
   "metadata": {},
   "outputs": [],
   "source": [
    "# load image information into the dataset\n",
    "dataset.load_images()"
   ]
  },
  {
   "cell_type": "code",
   "execution_count": null,
   "metadata": {},
   "outputs": [],
   "source": [
    "# select images from a dataset\n",
    "selection = api.select_images(['dataset.name', '==', 'Lymphoma_250_bt'])\n",
    "\n",
    "# and create a meta-dictionary as a CSV\n",
    "md = api.write_csv(doc_folder + 'Lymphoma_250_bt_metadata.csv', api.selected_metadata())"
   ]
  },
  {
   "cell_type": "code",
   "execution_count": null,
   "metadata": {},
   "outputs": [],
   "source": [
    "# load image and display image data\n",
    "image = api.image(study.images[0])\n",
    "image.load_image_data()\n",
    "image.show_in_notebook()"
   ]
  },
  {
   "cell_type": "code",
   "execution_count": null,
   "metadata": {},
   "outputs": [],
   "source": [
    "# create meta information of one image\n",
    "mi = image.meta_info()\n",
    "import json\n",
    "mi_json = json.dumps(mi)\n",
    "with open(doc_folder + image.name + '_info.json', 'w') as json_file:\n",
    "    json_file.write(mi_json)"
   ]
  },
  {
   "cell_type": "code",
   "execution_count": null,
   "metadata": {},
   "outputs": [],
   "source": [
    "# load image's superpixel information and map array\n",
    "image.load_superpixels()\n",
    "image.map_superpixels()"
   ]
  },
  {
   "cell_type": "code",
   "execution_count": null,
   "metadata": {},
   "outputs": [],
   "source": [
    "# create superpixel outlines as SVG paths\n",
    "superpixel_colors = api.superpixel_colors()\n",
    "outline_svg = image.superpixel_outlines(\n",
    "    out_format='osvg', path_attribs=superpixel_colors)\n",
    "outlines = image.superpixel_outlines(\n",
    "    out_format='osvgp', path_attribs=superpixel_colors)\n",
    "\n",
    "# display one path\n",
    "outlines[0]"
   ]
  },
  {
   "cell_type": "code",
   "execution_count": null,
   "metadata": {},
   "outputs": [],
   "source": [
    "# retrieve segmentation (supports image name, image ID (via additional request), and segmentation ID)\n",
    "segmentation = api.segmentation('ISIC_0000000')"
   ]
  },
  {
   "cell_type": "code",
   "execution_count": null,
   "metadata": {},
   "outputs": [],
   "source": [
    "# get superpixels in image mask\n",
    "sp_weights = segmentation.superpixels_in_mask()\n",
    "sp_half_in = segmentation.superpixels_in_mask(0.5)\n",
    "sp_full_in = segmentation.superpixels_in_mask(1.0)\n",
    "\n",
    "# print sum\n",
    "print('Number of superpixels: ' + str(len(sp_weights)))\n",
    "print('Average coverage: ' + str(sum(sp_weights) / len(sp_weights)))\n",
    "print('Superpixels at least half in mask: ' + str(len(sp_half_in)))\n",
    "print('Superpixels fully in mask: ' + str(len(sp_full_in)))"
   ]
  },
  {
   "cell_type": "code",
   "execution_count": null,
   "metadata": {},
   "outputs": [],
   "source": [
    "a[0].load_data(load_masks=True)\n",
    "a[1].load_data(load_masks=True)"
   ]
  },
  {
   "cell_type": "code",
   "execution_count": null,
   "metadata": {},
   "outputs": [],
   "source": [
    "from isicarchive.sampler import Sampler\n",
    "s = Sampler()\n",
    "s._kernels"
   ]
  },
  {
   "cell_type": "code",
   "execution_count": null,
   "metadata": {},
   "outputs": [],
   "source": [
    "a[0].overlap('Vessels : Arborizing', a[1], 'Vessels : Arborizing', 'smcc')"
   ]
  },
  {
   "cell_type": "code",
   "execution_count": null,
   "metadata": {},
   "outputs": [],
   "source": [
    "m0 = a[0].masks['Vessels : Arborizing']\n",
    "m1 = a[1].masks['Vessels : Arborizing']\n",
    "import numpy\n",
    "m0s = m0.shape\n",
    "m0 = m0.reshape((m0s[0], m0s[1], 1,))\n",
    "m1 = m1.reshape((m0s[0], m0s[1], 1,))\n",
    "from isicarchive import imfunc\n",
    "m0 = imfunc.image_smooth_fft(m0, 0.05)\n",
    "m1 = imfunc.image_smooth_fft(m1, 0.05)\n",
    "m2 = numpy.minimum(m0,m1)\n",
    "m = numpy.concatenate((m0-(0.5*m2).astype(numpy.uint8),m1-(0.5*m2).astype(numpy.uint8),m2), axis=2)\n",
    "imfunc.image_corr(m0,m1)"
   ]
  },
  {
   "cell_type": "code",
   "execution_count": null,
   "metadata": {},
   "outputs": [],
   "source": [
    "mask = a[0]._image_obj._segmentation.mask > 0\n",
    "imfunc.image_corr(m0,m1,mask)"
   ]
  },
  {
   "cell_type": "code",
   "execution_count": null,
   "metadata": {},
   "outputs": [],
   "source": [
    "api.show_image_in_notebook(m)"
   ]
  },
  {
   "cell_type": "code",
   "execution_count": null,
   "metadata": {},
   "outputs": [],
   "source": [
    "import matplotlib.pyplot as plt\n",
    "%matplotlib inline\n",
    "plt.figure(figsize=(10,10))\n",
    "plt.scatter(m0.flatten(),m1.flatten())\n",
    "plt.show()"
   ]
  }
 ],
 "metadata": {
  "kernelspec": {
   "display_name": "Python 3",
   "language": "python",
   "name": "python3"
  },
  "language_info": {
   "codemirror_mode": {
    "name": "ipython",
    "version": 3
   },
   "file_extension": ".py",
   "mimetype": "text/x-python",
   "name": "python",
   "nbconvert_exporter": "python",
   "pygments_lexer": "ipython3",
   "version": "3.7.4"
  }
 },
 "nbformat": 4,
 "nbformat_minor": 2
}
