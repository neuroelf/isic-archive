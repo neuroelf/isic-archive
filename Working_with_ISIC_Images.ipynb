{
 "cells": [
  {
   "cell_type": "markdown",
   "metadata": {},
   "source": [
    "# Working with ISIC Images\n",
    "Images are at the heart of the ISIC Archive, and this notebook\n",
    "will give you a sense of what the ```isicarchive``` package\n",
    "can do in terms of retrieving images from the archive, and the\n",
    "kinds of methods you can apply to them.\n",
    "## Preparation\n",
    "We'll start again by creating an ```IsicApi``` object, which\n",
    "allows us to access the various pieces of information and images\n",
    "stored in the archive. The call to ```cache_images()``` will\n",
    "then download information (and meta information) about all\n",
    "images that are available--if you are logged in as a regular\n",
    "user, you may have access to additional images! **If you're\n",
    "using the ```cache_images()``` method, please use a different\n",
    "cache folder if you want to work with both publicly available\n",
    "and private images in separate sessions.**\n",
    "\n",
    "Next, we'll select all images from the ```IsicApi``` object that\n",
    "have a specific diagnosis, and then display those images."
   ]
  },
  {
   "cell_type": "code",
   "execution_count": 1,
   "metadata": {},
   "outputs": [
    {
     "name": "stdout",
     "output_type": "stream",
     "text": [
      "Requesting (auth) https://isic-archive.com/api/v1/image/histogram\n",
      "Retrieved dict with 25 keys.\n",
      "Requesting (auth) https://isic-archive.com/api/v1/dataset with params: {'limit': 0, 'detail': 'true'}\n",
      "Retrieved list with 29 items.\n",
      "Requesting (auth) https://isic-archive.com/api/v1/study with params: {'limit': 0, 'detail': 'true'}\n",
      "Retrieved list with 18 items.\n"
     ]
    }
   ],
   "source": [
    "# Settings (please adapt to your needs!)\n",
    "username = 'weberj3@mskcc.org'\n",
    "\n",
    "# DO NOT PUT A PASSWORD into the document, it will be requested,\n",
    "# or you can store it in a privately readable ~/.netrc file!\n",
    "\n",
    "cache_folder = 'C:\\\\Users\\\\weberj3\\\\Documents\\\\ISIC'\n",
    "# cache_folder = '/Data/MSKCC/isicarchive/cache'\n",
    "\n",
    "# setting debug flag, this will print out every web-API operation\n",
    "debug = True\n",
    "\n",
    "# Preparation\n",
    "from isicarchive.api import IsicApi\n",
    "from isicarchive import func, imfunc\n",
    "api = IsicApi(username, cache_folder=cache_folder, debug=debug)"
   ]
  },
  {
   "cell_type": "code",
   "execution_count": null,
   "metadata": {},
   "outputs": [],
   "source": [
    "# caching images and segmentations; this can take a long time!!\n",
    "# so you may want to skip this cell for now...\n",
    "api.cache_images()\n",
    "api.cache_segmentations()"
   ]
  },
  {
   "cell_type": "code",
   "execution_count": null,
   "metadata": {},
   "outputs": [],
   "source": [
    "# list studies\n",
    "api.studies"
   ]
  },
  {
   "cell_type": "code",
   "execution_count": 3,
   "metadata": {},
   "outputs": [
    {
     "name": "stdout",
     "output_type": "stream",
     "text": [
      "Requesting (auth) https://isic-archive.com/api/v1/annotation with params: {'studyId': '5a32cde91165975cf58a469c', 'detail': 'true'}\n",
      "Retrieved list with 840 items.\n"
     ]
    }
   ],
   "source": [
    "# load a study and cache the images associated with it\n",
    "study = api.study('ISIC Annotation Study - All Features')"
   ]
  },
  {
   "cell_type": "code",
   "execution_count": null,
   "metadata": {},
   "outputs": [],
   "source": [
    "# load image and data\n",
    "image = api.image(study.images[0])\n",
    "image.load_imagedata()\n",
    "image.load_superpixels()\n",
    "image.map_superpixels()"
   ]
  },
  {
   "cell_type": "code",
   "execution_count": null,
   "metadata": {},
   "outputs": [],
   "source": [
    "# create superpixel outlines as SVG paths\n",
    "superpixel_colors = func.superpixel_colors()\n",
    "outline_svg = imfunc.superpixel_outlines(\n",
    "    image.superpixels['map'],\n",
    "    image.superpixels['idx'].shape,\n",
    "    out_format='osvg',\n",
    "    path_attribs=superpixel_colors)\n",
    "outlines = imfunc.superpixel_outlines(\n",
    "    image.superpixels['map'],\n",
    "    image.superpixels['idx'].shape,\n",
    "    out_format='osvgp',\n",
    "    path_attribs=superpixel_colors)\n",
    "\n",
    "# display one path\n",
    "outlines[0]"
   ]
  },
  {
   "cell_type": "code",
   "execution_count": null,
   "metadata": {},
   "outputs": [],
   "source": [
    "# demostrate how to color a single superpixel\n",
    "image_data = image.data\n",
    "image_shape = image_data.shape\n",
    "image_data.shape = (image_shape[0] * image_shape[1], -1)\n",
    "map = image.superpixels['map']\n",
    "superpixel_index = 472\n",
    "pixel_count = map[superpixel_index, -1]\n",
    "superpixel_pixels = map[superpixel_index, 0:pixel_count]\n",
    "image_data[superpixel_pixels, 0] = 255\n",
    "image_data[superpixel_pixels, 1] = 0\n",
    "image_data[superpixel_pixels, 2] = 0\n",
    "image_data.shape = image_shape\n",
    "\n",
    "import matplotlib.pyplot as plt\n",
    "%matplotlib inline\n",
    "plt.imshow(image_data)\n",
    "plt.show()"
   ]
  },
  {
   "cell_type": "code",
   "execution_count": null,
   "metadata": {},
   "outputs": [],
   "source": [
    "segmentation = api.segmentation('ISIC_0023877')"
   ]
  },
  {
   "cell_type": "code",
   "execution_count": null,
   "metadata": {},
   "outputs": [],
   "source": [
    "study_features = []\n",
    "study.features"
   ]
  },
  {
   "cell_type": "code",
   "execution_count": 4,
   "metadata": {},
   "outputs": [],
   "source": [
    "completed_annotations = {}\n",
    "for a in study.annotations:\n",
    "    if not 'markups' in a:\n",
    "        continue\n",
    "    for (f,m) in a['markups'].items():\n",
    "        if not m:\n",
    "            continue\n",
    "        if not f in completed_annotations:\n",
    "            completed_annotations[f] = 1\n",
    "        else:\n",
    "            completed_annotations[f] += 1"
   ]
  },
  {
   "cell_type": "code",
   "execution_count": 2,
   "metadata": {},
   "outputs": [
    {
     "data": {
      "text/plain": [
       "{'Circles & Semicircles : NOS': [120, 120, 120],\n",
       " 'Circles & Semicircles : Brown': [184, 136, 112],\n",
       " 'Circles & Semicircles : Circle within a circle': [160, 128, 120],\n",
       " 'Circles & Semicircles : White': [192, 192, 192],\n",
       " 'Dots : NOS': [48, 48, 48],\n",
       " 'Dots : Black': [48, 40, 24],\n",
       " 'Dots : Blue-gray': [8, 64, 128],\n",
       " 'Dots : Brown': [76, 48, 40],\n",
       " 'Dots : Irregular': [96, 56, 56],\n",
       " 'Dots : Regular': [72, 48, 48],\n",
       " 'Globules / Clods : NOS': [128, 96, 48],\n",
       " 'Globules / Clods : Blue': [16, 48, 96],\n",
       " 'Globules / Clods : Blue-gray ovoid nests': [32, 56, 112],\n",
       " 'Globules / Clods : Cobblestone pattern': [48, 48, 104],\n",
       " 'Globules / Clods : Comedo-like openings': [192, 136, 112],\n",
       " 'Globules / Clods : Concentric': [184, 120, 88],\n",
       " 'Globules / Clods : Irregular': [144, 64, 120],\n",
       " 'Globules / Clods : Lacunae : Red': [144, 24, 16],\n",
       " 'Globules / Clods : Lacunae : Red-purple': [144, 16, 80],\n",
       " 'Globules / Clods : Shiny white blotches and strands': [192, 136, 112],\n",
       " 'Lines : NOS': [40, 40, 64],\n",
       " 'Lines : Angulated lines / Polygons / Zig-zag pattern': [96, 32, 32],\n",
       " 'Miscellaneous : Lacunae : Red': [160, 40, 0],\n",
       " 'Vessels : Arborizing': [128, 128, 32],\n",
       " 'Vessels : Dotted': [192, 32, 32],\n",
       " 'Facial Skin : Brown circles': [184, 136, 112],\n",
       " 'Facial Skin : Circle within a circle': [160, 128, 120],\n",
       " 'Miscellaneous : Circle within a circle': [160, 128, 120],\n",
       " 'Miscellaneous : Comedo-like openings': [192, 136, 112],\n",
       " 'Miscellaneous : Lacunae : Red-purple': [144, 16, 80],\n",
       " 'Shiny white structures : Shiny white blotches and strands': [192, 136, 112],\n",
       " 'Miscellaneous : Angulated lines / Polygons': [96, 32, 32]}"
      ]
     },
     "execution_count": 2,
     "metadata": {},
     "output_type": "execute_result"
    }
   ],
   "source": [
    "api._feature_colors"
   ]
  },
  {
   "cell_type": "code",
   "execution_count": 5,
   "metadata": {},
   "outputs": [
    {
     "data": {
      "text/plain": [
       "{'Circles & Semicircles : Brown': 6,\n",
       " 'Circles & Semicircles : Circle within a circle': 4,\n",
       " 'Circles & Semicircles : NOS': 1,\n",
       " 'Circles & Semicircles : White': 1,\n",
       " 'Dots : Black': 11,\n",
       " 'Dots : Blue-gray': 33,\n",
       " 'Dots : Brown': 26,\n",
       " 'Dots : Irregular': 39,\n",
       " 'Dots : NOS': 2,\n",
       " 'Dots : Regular': 14,\n",
       " 'Globules / Clods : Blue': 23,\n",
       " 'Globules / Clods : Blue-gray ovoid nests': 43,\n",
       " 'Globules / Clods : Cobblestone pattern': 16,\n",
       " 'Globules / Clods : Comedo-like openings': 71,\n",
       " 'Globules / Clods : Concentric': 14,\n",
       " 'Globules / Clods : Irregular': 37,\n",
       " 'Globules / Clods : Lacunae : Black': 4,\n",
       " 'Globules / Clods : Lacunae : Red': 36,\n",
       " 'Globules / Clods : Lacunae : Red-purple': 19,\n",
       " 'Globules / Clods : Leaflike area': 24,\n",
       " 'Globules / Clods : Milia-like cysts': 88,\n",
       " 'Globules / Clods : Milky red': 12,\n",
       " 'Globules / Clods : NOS': 10,\n",
       " 'Globules / Clods : Regular': 23,\n",
       " 'Globules / Clods : Rim of brown globules': 11,\n",
       " 'Globules / Clods : White': 1,\n",
       " 'Lines : Angulated lines / Polygons / Zig-zag pattern': 26,\n",
       " 'Lines : Branched streaks': 11,\n",
       " 'Lines : Crypts': 7,\n",
       " 'Lines : NOS': 1,\n",
       " 'Lines : Pseudopods': 8,\n",
       " 'Lines : Radial streaming': 15,\n",
       " 'Lines : Streaks': 16,\n",
       " 'Miscellaneous : Fissures': 18,\n",
       " 'Miscellaneous : Moth-eaten border': 24,\n",
       " 'Miscellaneous : Ridges': 36,\n",
       " 'Miscellaneous : Scale': 21,\n",
       " 'Miscellaneous : Spoke wheel area': 2,\n",
       " 'Miscellaneous : Ulceration / Erosion': 77,\n",
       " 'Nail lesions : Blood spots': 20,\n",
       " 'Network : Atypical pigment network / Reticulation': 82,\n",
       " 'Network : Broadened pigment network / Reticulation': 19,\n",
       " 'Network : Delicate Pigment Network / Reticulation': 52,\n",
       " 'Network : NOS': 16,\n",
       " 'Network : Negative pigment network': 36,\n",
       " 'Network : Typical pigment network / Reticulation': 67,\n",
       " 'Pattern : Cerebriform': 41,\n",
       " 'Pattern : Fingerprint': 36,\n",
       " 'Pattern : Homogeneous : Blue': 7,\n",
       " 'Pattern : Homogeneous : Brown': 7,\n",
       " 'Pattern : Homogeneous : NOS': 5,\n",
       " 'Pattern : Homogeneous : Pink': 10,\n",
       " 'Pattern : NOS': 3,\n",
       " 'Pattern : Starburst': 9,\n",
       " 'Regression structures : NOS': 8,\n",
       " 'Regression structures : Peppering / Granularity': 95,\n",
       " 'Regression structures : Scarlike depigmentation': 28,\n",
       " 'Shiny white structures : NOS': 12,\n",
       " 'Shiny white structures : Rosettes': 5,\n",
       " 'Shiny white structures : Shiny white blotches and strands': 33,\n",
       " 'Shiny white structures : Shiny white streaks': 10,\n",
       " 'Structureless : Blotch irregular': 18,\n",
       " 'Structureless : Blotch regular': 20,\n",
       " 'Structureless : Blue-whitish veil': 44,\n",
       " 'Structureless : Central white patch': 27,\n",
       " 'Structureless : Milky red areas': 42,\n",
       " 'Structureless : NOS': 21,\n",
       " 'Structureless : Structureless brown (tan)': 32,\n",
       " 'Vessels : Arborizing': 59,\n",
       " 'Vessels : Comma': 2,\n",
       " 'Vessels : Corkscrew': 3,\n",
       " 'Vessels : Dotted': 60,\n",
       " 'Vessels : Glomerular': 4,\n",
       " 'Vessels : Hairpin': 30,\n",
       " 'Vessels : Linear irregular': 69,\n",
       " 'Vessels : Monomorphous': 1,\n",
       " 'Vessels : NOS': 14,\n",
       " 'Vessels : Polymorphous': 22,\n",
       " 'Vessels : String of pearls': 2}"
      ]
     },
     "execution_count": 5,
     "metadata": {},
     "output_type": "execute_result"
    }
   ],
   "source": [
    "sorted_features = {}\n",
    "for k in sorted(completed_annotations.keys()):\n",
    "    sorted_features[k] = completed_annotations[k]\n",
    "sorted_features"
   ]
  },
  {
   "cell_type": "code",
   "execution_count": null,
   "metadata": {},
   "outputs": [],
   "source": []
  }
 ],
 "metadata": {
  "kernelspec": {
   "display_name": "Python 3",
   "language": "python",
   "name": "python3"
  },
  "language_info": {
   "codemirror_mode": {
    "name": "ipython",
    "version": 3
   },
   "file_extension": ".py",
   "mimetype": "text/x-python",
   "name": "python",
   "nbconvert_exporter": "python",
   "pygments_lexer": "ipython3",
   "version": "3.7.4"
  }
 },
 "nbformat": 4,
 "nbformat_minor": 2
}
